{
 "cells": [
  {
   "cell_type": "code",
   "execution_count": 2,
   "id": "2b05dd56",
   "metadata": {},
   "outputs": [],
   "source": [
    "import pandas as pd\n",
    "import numpy as np\n",
    "import warnings\n",
    "warnings.filterwarnings('ignore')"
   ]
  },
  {
   "cell_type": "code",
   "execution_count": 3,
   "id": "4fb7cf63",
   "metadata": {},
   "outputs": [],
   "source": [
    "df = pd.read_csv(\"data/test.csv\")\n",
    "tr = pd.read_csv(\"data/train.csv\")"
   ]
  },
  {
   "cell_type": "code",
   "execution_count": 4,
   "id": "9b7cfff7",
   "metadata": {},
   "outputs": [
    {
     "name": "stderr",
     "output_type": "stream",
     "text": [
      "[nltk_data] Downloading package punkt to\n",
      "[nltk_data]     C:\\Users\\Lenovo\\AppData\\Roaming\\nltk_data...\n",
      "[nltk_data]   Package punkt is already up-to-date!\n"
     ]
    }
   ],
   "source": [
    "import nltk\n",
    "nltk.download('punkt')\n",
    "\n",
    "from nltk.corpus import stopwords\n",
    "import string\n",
    "from nltk.stem.porter import PorterStemmer\n",
    "ps = PorterStemmer()"
   ]
  },
  {
   "cell_type": "code",
   "execution_count": 5,
   "id": "57995015",
   "metadata": {},
   "outputs": [],
   "source": [
    "extrastopwords = [\"http\", \"https\"]"
   ]
  },
  {
   "cell_type": "code",
   "execution_count": 6,
   "id": "45a9c7af",
   "metadata": {},
   "outputs": [],
   "source": [
    "allstopwords = stopwords.words('english') + extrastopwords"
   ]
  },
  {
   "cell_type": "code",
   "execution_count": 7,
   "id": "7859669f",
   "metadata": {},
   "outputs": [],
   "source": [
    "stopwords = nltk.corpus.stopwords.words('english')\n",
    "newStopWords = ['stopWord1','stopWord2']\n",
    "stopwords.extend(newStopWords)"
   ]
  },
  {
   "cell_type": "code",
   "execution_count": 8,
   "id": "2bd47bc5",
   "metadata": {},
   "outputs": [],
   "source": [
    "def transform(text):\n",
    "    text = text.lower()\n",
    "    text = nltk.word_tokenize(text)\n",
    "    alpha_list = []\n",
    "    for i in text:\n",
    "        if i.isalnum():\n",
    "            alpha_list.append(i)\n",
    "    text = alpha_list[:]#copying list\n",
    "    no_stopwords = []\n",
    "    for i in text:\n",
    "        if i not in allstopwords and i not in string.punctuation:\n",
    "            no_stopwords.append(i)\n",
    "    text = no_stopwords[:]\n",
    "#    for i in text:\n",
    "#        y.append(ps.stem(i))\n",
    "    return \" \".join(text)"
   ]
  },
  {
   "cell_type": "code",
   "execution_count": 9,
   "id": "d1a87410",
   "metadata": {},
   "outputs": [],
   "source": [
    "tr['transform_text'] = tr['text'].apply(transform)"
   ]
  },
  {
   "cell_type": "code",
   "execution_count": 10,
   "id": "5dc2b288",
   "metadata": {},
   "outputs": [],
   "source": [
    "disaster_tweets = tr[tr['target'] == 1]"
   ]
  },
  {
   "cell_type": "code",
   "execution_count": 11,
   "id": "1d03ad22",
   "metadata": {},
   "outputs": [],
   "source": [
    "listofwords = []\n",
    "\n",
    "for a in tr['transform_text']:\n",
    "    listofwords.append(a)\n",
    "\n",
    "fullist = \" \".join(listofwords)\n",
    "fullistwords = fullist.split()\n",
    "\n",
    "#from nltk.util import ngrams\n",
    "#text = \"I am batman and I like coffee\"\n",
    "#_1gram = text.split(\" \")\n",
    "#_2gram = [' '.join(e) for e in ngrams(_1gram, 2)]\n",
    "#_3gram = [' '.join(e) for e in ngrams(_1gram, 3)]\n"
   ]
  },
  {
   "cell_type": "code",
   "execution_count": 12,
   "id": "df54729e",
   "metadata": {},
   "outputs": [],
   "source": [
    "disasterwords = []\n",
    "\n",
    "for a in disaster_tweets['transform_text']:\n",
    "    disasterwords.append(a)\n",
    "\n",
    "disfullist = \" \".join(disasterwords)\n",
    "disfullistwords = disfullist.split()"
   ]
  },
  {
   "cell_type": "code",
   "execution_count": 13,
   "id": "fe925c79",
   "metadata": {},
   "outputs": [
    {
     "name": "stdout",
     "output_type": "stream",
     "text": [
      "<FreqDist with 8413 samples and 30804 outcomes>\n"
     ]
    }
   ],
   "source": [
    "from nltk.probability import FreqDist\n",
    "disfulllistdist = FreqDist(disfullistwords)\n",
    "print(disfulllistdist)\n"
   ]
  },
  {
   "cell_type": "code",
   "execution_count": 14,
   "id": "50d6383b",
   "metadata": {},
   "outputs": [
    {
     "data": {
      "text/plain": [
       "30804"
      ]
     },
     "execution_count": 14,
     "metadata": {},
     "output_type": "execute_result"
    }
   ],
   "source": [
    "len(disfullistwords)"
   ]
  },
  {
   "cell_type": "code",
   "execution_count": 15,
   "id": "e236106d",
   "metadata": {},
   "outputs": [
    {
     "name": "stdout",
     "output_type": "stream",
     "text": [
      "fire 0.005746007012076354\n",
      "news 0.004544864303337229\n",
      "amp 0.004382547721075185\n",
      "via 0.003928061290741462\n",
      "disaster 0.003863134657836645\n",
      "california 0.0036034281262173743\n",
      "police 0.003473574860407739\n",
      "people 0.0033761849110505128\n",
      "suicide 0.0033761849110505128\n",
      "killed 0.0030190884300740164\n",
      "like 0.0030190884300740164\n",
      "storm 0.0028243085313595638\n",
      "hiroshima 0.0028243085313595638\n",
      "crash 0.0027593818984547464\n",
      "fires 0.0027269185820023374\n",
      "families 0.002629528632645111\n",
      "train 0.0025646019997402933\n",
      "2 0.002467212050383067\n",
      "buildings 0.0024347487339306585\n",
      "emergency 0.0024022854174782496\n",
      "bomb 0.0024022854174782496\n",
      "two 0.002337358784573432\n",
      "mh370 0.0023048954681210232\n",
      "nuclear 0.0022724321516686143\n",
      "attack 0.002239968835216206\n",
      "video 0.002239968835216206\n",
      "wildfire 0.002239968835216206\n",
      "accident 0.002207505518763797\n",
      "get 0.0021425788858589795\n",
      "bombing 0.0021425788858589795\n",
      "one 0.0021101155694065706\n",
      "northern 0.0020776522529541617\n",
      "burning 0.0020776522529541617\n",
      "dead 0.002045188936501753\n",
      "legionnaires 0.0019477989871445266\n",
      "bomber 0.0019477989871445266\n",
      "pm 0.001915335670692118\n",
      "homes 0.001882872354239709\n",
      "still 0.0018504090377873003\n",
      "war 0.0018504090377873003\n"
     ]
    }
   ],
   "source": [
    "for a in disfulllistdist.most_common(40):\n",
    "    print(a[0],a[1]/30804)\n",
    "\n"
   ]
  },
  {
   "cell_type": "code",
   "execution_count": 16,
   "id": "37dd670f",
   "metadata": {},
   "outputs": [
    {
     "data": {
      "text/plain": [
       "[('fire', 177),\n",
       " ('news', 140),\n",
       " ('amp', 135),\n",
       " ('via', 121),\n",
       " ('disaster', 119),\n",
       " ('california', 111),\n",
       " ('police', 107),\n",
       " ('people', 104),\n",
       " ('suicide', 104),\n",
       " ('killed', 93),\n",
       " ('like', 93),\n",
       " ('storm', 87),\n",
       " ('hiroshima', 87),\n",
       " ('crash', 85),\n",
       " ('fires', 84),\n",
       " ('families', 81),\n",
       " ('train', 79),\n",
       " ('2', 76),\n",
       " ('buildings', 75),\n",
       " ('emergency', 74),\n",
       " ('bomb', 74),\n",
       " ('two', 72),\n",
       " ('mh370', 71),\n",
       " ('nuclear', 70),\n",
       " ('attack', 69),\n",
       " ('video', 69),\n",
       " ('wildfire', 69),\n",
       " ('accident', 68),\n",
       " ('get', 66),\n",
       " ('bombing', 66),\n",
       " ('one', 65),\n",
       " ('northern', 64),\n",
       " ('burning', 64),\n",
       " ('dead', 63),\n",
       " ('legionnaires', 60),\n",
       " ('bomber', 60),\n",
       " ('pm', 59),\n",
       " ('homes', 58),\n",
       " ('still', 57),\n",
       " ('war', 57)]"
      ]
     },
     "execution_count": 16,
     "metadata": {},
     "output_type": "execute_result"
    }
   ],
   "source": [
    "disfulllistdist.most_common(40)\n"
   ]
  },
  {
   "cell_type": "code",
   "execution_count": 17,
   "id": "305e3fed",
   "metadata": {},
   "outputs": [
    {
     "data": {
      "image/png": "[encoded data removed]",
      "text/plain": [
       "<Figure size 432x288 with 1 Axes>"
      ]
     },
     "metadata": {
      "needs_background": "light"
     },
     "output_type": "display_data"
    },
    {
     "data": {
      "text/plain": [
       "<AxesSubplot:xlabel='Samples', ylabel='Counts'>"
      ]
     },
     "execution_count": 17,
     "metadata": {},
     "output_type": "execute_result"
    }
   ],
   "source": [
    "import matplotlib.pyplot as plt\n",
    "disfulllistdist.plot(40,cumulative=False)\n"
   ]
  },
  {
   "cell_type": "code",
   "execution_count": null,
   "id": "b40c87fc",
   "metadata": {},
   "outputs": [],
   "source": []
  }
 ],
 "metadata": {
  "kernelspec": {
   "display_name": "Python 3 (ipykernel)",
   "language": "python",
   "name": "python3"
  },
  "language_info": {
   "codemirror_mode": {
    "name": "ipython",
    "version": 3
   },
   "file_extension": ".py",
   "mimetype": "text/x-python",
   "name": "python",
   "nbconvert_exporter": "python",
   "pygments_lexer": "ipython3",
   "version": "3.9.7"
  }
 },
 "nbformat": 4,
 "nbformat_minor": 5
}
