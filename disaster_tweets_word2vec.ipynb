{
  "cells": [
    {
      "cell_type": "markdown",
      "metadata": {
        "id": "view-in-github",
        "colab_type": "text"
      },
      "source": [
        "<a href=\"https://colab.research.google.com/github/Hadraks/disaster_tweets/blob/main/disaster_tweets_word2vec.ipynb\" target=\"_parent\"><img src=\"https://colab.research.google.com/assets/colab-badge.svg\" alt=\"Open In Colab\"/></a>"
      ]
    },
    {
      "cell_type": "markdown",
      "source": [
        "This notebook is to focus on the uses of word 2 vec."
      ],
      "metadata": {
        "id": "mU9GJumhi6mm"
      },
      "id": "mU9GJumhi6mm"
    },
    {
      "cell_type": "code",
      "source": [
        "!pip install adjustText\n",
        "!pip install yellowbrick\n"
      ],
      "metadata": {
        "colab": {
          "base_uri": "https://localhost:8080/"
        },
        "id": "muUuXkuMgY9D",
        "outputId": "41e9c1e9-d77e-4520-c719-3e2c21cef73d"
      },
      "id": "muUuXkuMgY9D",
      "execution_count": null,
      "outputs": [
        {
          "output_type": "stream",
          "name": "stdout",
          "text": [
            "Collecting adjustText\n",
            "  Downloading adjustText-0.7.3.tar.gz (7.5 kB)\n",
            "Requirement already satisfied: numpy in /usr/local/lib/python3.7/dist-packages (from adjustText) (1.21.5)\n",
            "Requirement already satisfied: matplotlib in /usr/local/lib/python3.7/dist-packages (from adjustText) (3.2.2)\n",
            "Requirement already satisfied: cycler>=0.10 in /usr/local/lib/python3.7/dist-packages (from matplotlib->adjustText) (0.11.0)\n",
            "Requirement already satisfied: pyparsing!=2.0.4,!=2.1.2,!=2.1.6,>=2.0.1 in /usr/local/lib/python3.7/dist-packages (from matplotlib->adjustText) (3.0.7)\n",
            "Requirement already satisfied: kiwisolver>=1.0.1 in /usr/local/lib/python3.7/dist-packages (from matplotlib->adjustText) (1.3.2)\n",
            "Requirement already satisfied: python-dateutil>=2.1 in /usr/local/lib/python3.7/dist-packages (from matplotlib->adjustText) (2.8.2)\n",
            "Requirement already satisfied: six>=1.5 in /usr/local/lib/python3.7/dist-packages (from python-dateutil>=2.1->matplotlib->adjustText) (1.15.0)\n",
            "Building wheels for collected packages: adjustText\n",
            "  Building wheel for adjustText (setup.py) ... \u001b[?25l\u001b[?25hdone\n",
            "  Created wheel for adjustText: filename=adjustText-0.7.3-py3-none-any.whl size=7097 sha256=d9962ced0a948e619b61b3b67f961302ea199a070adda4394bdeb6b3a6ddd349\n",
            "  Stored in directory: /root/.cache/pip/wheels/2f/98/32/afbf902d8f040fadfdf0a44357e4ab750afe165d873bf5893d\n",
            "Successfully built adjustText\n",
            "Installing collected packages: adjustText\n",
            "Successfully installed adjustText-0.7.3\n",
            "Requirement already satisfied: yellowbrick in /usr/local/lib/python3.7/dist-packages (1.4)\n",
            "Requirement already satisfied: matplotlib!=3.0.0,>=2.0.2 in /usr/local/lib/python3.7/dist-packages (from yellowbrick) (3.2.2)\n",
            "Requirement already satisfied: scipy>=1.0.0 in /usr/local/lib/python3.7/dist-packages (from yellowbrick) (1.4.1)\n",
            "Requirement already satisfied: numpy>=1.16.0 in /usr/local/lib/python3.7/dist-packages (from yellowbrick) (1.21.5)\n",
            "Requirement already satisfied: scikit-learn>=1.0.0 in /usr/local/lib/python3.7/dist-packages (from yellowbrick) (1.0.2)\n",
            "Requirement already satisfied: cycler>=0.10.0 in /usr/local/lib/python3.7/dist-packages (from yellowbrick) (0.11.0)\n",
            "Requirement already satisfied: pyparsing!=2.0.4,!=2.1.2,!=2.1.6,>=2.0.1 in /usr/local/lib/python3.7/dist-packages (from matplotlib!=3.0.0,>=2.0.2->yellowbrick) (3.0.7)\n",
            "Requirement already satisfied: python-dateutil>=2.1 in /usr/local/lib/python3.7/dist-packages (from matplotlib!=3.0.0,>=2.0.2->yellowbrick) (2.8.2)\n",
            "Requirement already satisfied: kiwisolver>=1.0.1 in /usr/local/lib/python3.7/dist-packages (from matplotlib!=3.0.0,>=2.0.2->yellowbrick) (1.3.2)\n",
            "Requirement already satisfied: six>=1.5 in /usr/local/lib/python3.7/dist-packages (from python-dateutil>=2.1->matplotlib!=3.0.0,>=2.0.2->yellowbrick) (1.15.0)\n",
            "Requirement already satisfied: joblib>=0.11 in /usr/local/lib/python3.7/dist-packages (from scikit-learn>=1.0.0->yellowbrick) (1.1.0)\n",
            "Requirement already satisfied: threadpoolctl>=2.0.0 in /usr/local/lib/python3.7/dist-packages (from scikit-learn>=1.0.0->yellowbrick) (3.1.0)\n"
          ]
        }
      ]
    },
    {
      "cell_type": "markdown",
      "source": [
        ""
      ],
      "metadata": {
        "id": "7ixR_aS5i3Nd"
      },
      "id": "7ixR_aS5i3Nd"
    },
    {
      "cell_type": "code",
      "source": [
        "import nltk\n",
        "nltk.download('stopwords')"
      ],
      "metadata": {
        "colab": {
          "base_uri": "https://localhost:8080/"
        },
        "id": "DCwAPzBdeLyV",
        "outputId": "d52c800f-a150-4b46-e0e5-95428d5dae2a"
      },
      "id": "DCwAPzBdeLyV",
      "execution_count": null,
      "outputs": [
        {
          "output_type": "stream",
          "name": "stdout",
          "text": [
            "[nltk_data] Downloading package stopwords to /root/nltk_data...\n",
            "[nltk_data]   Unzipping corpora/stopwords.zip.\n"
          ]
        },
        {
          "output_type": "execute_result",
          "data": {
            "text/plain": [
              "True"
            ]
          },
          "metadata": {},
          "execution_count": 2
        }
      ]
    },
    {
      "cell_type": "code",
      "metadata": {
        "id": "cuklqDIFNsrH"
      },
      "source": [
        "# Unmount the drive at the end of the session\n",
        "\n",
        "#drive.flush_and_unmount()\n",
        "#print('All changes made in this colab session should now be visible in Drive.')"
      ],
      "execution_count": null,
      "outputs": [],
      "id": "cuklqDIFNsrH"
    },
    {
      "cell_type": "code",
      "source": [
        "from google.colab import drive\n",
        "import os\n",
        "\n",
        "drive.mount('/content/drive')\n",
        "os.chdir('/content/drive/MyDrive')"
      ],
      "metadata": {
        "colab": {
          "base_uri": "https://localhost:8080/"
        },
        "id": "THjWDSHWY0zg",
        "outputId": "07de6830-7955-43d0-b6b6-efcb7b43431b"
      },
      "execution_count": null,
      "outputs": [
        {
          "output_type": "stream",
          "name": "stdout",
          "text": [
            "Mounted at /content/drive\n"
          ]
        }
      ],
      "id": "THjWDSHWY0zg"
    },
    {
      "cell_type": "code",
      "execution_count": null,
      "id": "75408d22",
      "metadata": {
        "id": "75408d22",
        "outputId": "f31554fc-3004-4c5f-978a-f06ea7c7ef2e",
        "colab": {
          "base_uri": "https://localhost:8080/"
        }
      },
      "outputs": [
        {
          "output_type": "stream",
          "name": "stdout",
          "text": [
            "[nltk_data] Downloading package punkt to /root/nltk_data...\n",
            "[nltk_data]   Unzipping tokenizers/punkt.zip.\n"
          ]
        }
      ],
      "source": [
        "from sklearn.model_selection import cross_val_score\n",
        "from sklearn import metrics\n",
        "from sklearn.model_selection import train_test_split\n",
        "\n",
        "from sklearn.pipeline import Pipeline\n",
        "from sklearn.naive_bayes import MultinomialNB\n",
        "from sklearn.linear_model import LogisticRegression\n",
        "\n",
        "import plotly.express as px\n",
        "\n",
        "import pandas as pd\n",
        "import gensim\n",
        "import seaborn as sns\n",
        "import matplotlib.pyplot as plt\n",
        "import numpy as np\n",
        "import xgboost as xgb\n",
        "\n",
        "import pandas as pd\n",
        "import nltk\n",
        "import regex as re\n",
        "import string\n",
        "from nltk.stem import PorterStemmer, WordNetLemmatizer\n",
        "import matplotlib.pyplot as plt\n",
        "\n",
        "from sklearn.feature_extraction.text import CountVectorizer, TfidfVectorizer\n",
        "from sklearn.model_selection import train_test_split, cross_validate, GridSearchCV, cross_val_score, cross_validate\n",
        "from sklearn.pipeline import Pipeline\n",
        "from sklearn.preprocessing import FunctionTransformer\n",
        "from sklearn.naive_bayes import MultinomialNB\n",
        "from sklearn.tree import DecisionTreeClassifier\n",
        "from sklearn.linear_model import LogisticRegression\n",
        "from sklearn.ensemble import RandomForestClassifier, GradientBoostingClassifier\n",
        "from sklearn.svm import SVC\n",
        "\n",
        "import nltk\n",
        "nltk.download('punkt')\n",
        "from nltk.corpus import stopwords\n",
        "import string\n",
        "from nltk.stem.porter import PorterStemmer\n",
        "ps = PorterStemmer()\n",
        "\n",
        "from sklearn.cluster import KMeans\n",
        "\n",
        "from yellowbrick.cluster import KElbowVisualizer, SilhouetteVisualizer\n"
      ]
    },
    {
      "cell_type": "markdown",
      "source": [
        "Only looking at training data for this analysis."
      ],
      "metadata": {
        "id": "taKR2lvajUdU"
      },
      "id": "taKR2lvajUdU"
    },
    {
      "cell_type": "code",
      "execution_count": null,
      "id": "125298f8",
      "metadata": {
        "id": "125298f8"
      },
      "outputs": [],
      "source": [
        "#test = pd.read_csv(\"test.csv\")\n",
        "tr = pd.read_csv(\"train.csv\")"
      ]
    },
    {
      "cell_type": "code",
      "source": [
        "keywords = tr['keyword']"
      ],
      "metadata": {
        "id": "qm2K2nM2EaHC"
      },
      "id": "qm2K2nM2EaHC",
      "execution_count": null,
      "outputs": []
    },
    {
      "cell_type": "code",
      "source": [
        "keywords.fillna(\"None\", inplace = True)"
      ],
      "metadata": {
        "id": "ZhidrOhlH7Ky"
      },
      "id": "ZhidrOhlH7Ky",
      "execution_count": null,
      "outputs": []
    },
    {
      "cell_type": "code",
      "execution_count": null,
      "id": "394b2490",
      "metadata": {
        "id": "394b2490"
      },
      "outputs": [],
      "source": [
        "#article_titles = tr['text']"
      ]
    },
    {
      "cell_type": "markdown",
      "source": [
        "Preprocessing for NLP."
      ],
      "metadata": {
        "id": "Vakwai1zjjnP"
      },
      "id": "Vakwai1zjjnP"
    },
    {
      "cell_type": "code",
      "execution_count": null,
      "id": "f08af022",
      "metadata": {
        "id": "f08af022",
        "outputId": "33db6613-770c-4469-dfa4-07733ba92c9a",
        "colab": {
          "base_uri": "https://localhost:8080/"
        }
      },
      "outputs": [
        {
          "output_type": "execute_result",
          "data": {
            "text/plain": [
              "['accident',\n",
              " 'accident',\n",
              " 'aftershock',\n",
              " 'aftershock',\n",
              " 'aftershock',\n",
              " 'aftershock',\n",
              " 'aftershock',\n",
              " 'aftershock',\n",
              " 'aftershock',\n",
              " 'aftershock',\n",
              " 'aftershock',\n",
              " 'aftershock',\n",
              " 'aftershock',\n",
              " 'aftershock',\n",
              " 'aftershock',\n",
              " 'aftershock',\n",
              " 'aftershock',\n",
              " 'aftershock',\n",
              " 'aftershock',\n",
              " 'aftershock',\n",
              " 'aftershock',\n",
              " 'aftershock',\n",
              " 'aftershock',\n",
              " 'aftershock',\n",
              " 'aftershock',\n",
              " 'aftershock',\n",
              " 'aftershock',\n",
              " 'aftershock',\n",
              " 'aftershock',\n",
              " 'aftershock']"
            ]
          },
          "metadata": {},
          "execution_count": 10
        }
      ],
      "source": [
        "# Create a list of strings, where each string is an article title\n",
        "titles_list = [title for title in keywords]\n",
        "\n",
        "# Collapse the list of strings into a single long string for processing\n",
        "big_title_string = ' '.join(titles_list)\n",
        "\n",
        "from nltk.tokenize import word_tokenize\n",
        "\n",
        "# Tokenize the string into words\n",
        "tokens = word_tokenize(big_title_string)\n",
        "\n",
        "# Remove non-alphabetic tokens, such as punctuation\n",
        "words = [word.lower() for word in tokens if word.isalpha()]\n",
        "\n",
        "# Filter out stopwords\n",
        "from nltk.corpus import stopwords\n",
        "stop_words = set(stopwords.words('english'))\n",
        "\n",
        "words = [word for word in words if not word in stop_words]\n",
        "\n",
        "# Print first 10 words\n",
        "words[100:130]"
      ]
    },
    {
      "cell_type": "markdown",
      "source": [
        "Downloading the words from word vectors from google news."
      ],
      "metadata": {
        "id": "SISFil7CjtNX"
      },
      "id": "SISFil7CjtNX"
    },
    {
      "cell_type": "code",
      "execution_count": null,
      "id": "93ccae3e",
      "metadata": {
        "id": "93ccae3e"
      },
      "outputs": [],
      "source": [
        "model = gensim.models.KeyedVectors.load_word2vec_format(\"https://s3.amazonaws.com/dl4j-distribution/GoogleNews-vectors-negative300.bin.gz\", binary = True) \n"
      ]
    },
    {
      "cell_type": "code",
      "source": [
        "# Check dimension of word vectors\n",
        "model.vector_size\n",
        "#each word has 300 vectors."
      ],
      "metadata": {
        "colab": {
          "base_uri": "https://localhost:8080/"
        },
        "id": "JczkoFjugItH",
        "outputId": "603fd3ff-1412-45fe-94e6-289fab698384"
      },
      "id": "JczkoFjugItH",
      "execution_count": null,
      "outputs": [
        {
          "output_type": "execute_result",
          "data": {
            "text/plain": [
              "300"
            ]
          },
          "metadata": {},
          "execution_count": 12
        }
      ]
    },
    {
      "cell_type": "code",
      "execution_count": null,
      "id": "1689a324",
      "metadata": {
        "id": "1689a324",
        "outputId": "0dd29b6a-7e95-432e-a83d-028a17ab8655",
        "colab": {
          "base_uri": "https://localhost:8080/"
        }
      },
      "outputs": [
        {
          "output_type": "execute_result",
          "data": {
            "text/plain": [
              "array([ 0.11376953, -0.09570312,  0.08691406, -0.375     , -0.04345703,\n",
              "        0.00418091,  0.07226562, -0.40625   ,  0.18359375,  0.08886719,\n",
              "        0.14355469, -0.04394531, -0.19824219, -0.234375  , -0.17675781,\n",
              "        0.12988281, -0.08349609,  0.15917969,  0.44921875, -0.1796875 ],\n",
              "      dtype=float32)"
            ]
          },
          "metadata": {},
          "execution_count": 13
        }
      ],
      "source": [
        "economy_vec = model['accident']\n",
        "economy_vec[:20] # First 20 components"
      ]
    },
    {
      "cell_type": "code",
      "execution_count": null,
      "id": "c92bb8d2",
      "metadata": {
        "id": "c92bb8d2",
        "outputId": "cfc9b1bd-2613-4e25-fc67-0d7fc3a4ca27",
        "colab": {
          "base_uri": "https://localhost:8080/"
        }
      },
      "outputs": [
        {
          "output_type": "execute_result",
          "data": {
            "text/plain": [
              "(208, 300)"
            ]
          },
          "metadata": {},
          "execution_count": 14
        }
      ],
      "source": [
        "# Filter the list of vectors to include only those that Word2Vec has a vector for\n",
        "vector_list = [model[word] for word in words if word in model.vocab]\n",
        "\n",
        "# Create a list of the words corresponding to these vectors\n",
        "words_filtered = [word for word in words if word in model.vocab]\n",
        "\n",
        "# Zip the words together with their vector representations\n",
        "word_vec_zip = zip(words_filtered, vector_list)\n",
        "\n",
        "# Cast to a dict so we can turn it into a dataframe\n",
        "word_vec_dict = dict(word_vec_zip)\n",
        "df = pd.DataFrame.from_dict(word_vec_dict, orient='index')\n",
        "df.shape"
      ]
    },
    {
      "cell_type": "markdown",
      "source": [
        "Originally there were 220 keywords. I think some were duplicates and that is why it is 208 here."
      ],
      "metadata": {
        "id": "y2gVxTUYkCxr"
      },
      "id": "y2gVxTUYkCxr"
    },
    {
      "cell_type": "code",
      "execution_count": null,
      "id": "d4d21f96",
      "metadata": {
        "id": "d4d21f96",
        "outputId": "f29f2051-7023-41b4-ea18-d309fc41ba98",
        "colab": {
          "base_uri": "https://localhost:8080/"
        }
      },
      "outputs": [
        {
          "output_type": "stream",
          "name": "stderr",
          "text": [
            "/usr/local/lib/python3.7/dist-packages/sklearn/manifold/_t_sne.py:793: FutureWarning: The default learning rate in TSNE will change from 200.0 to 'auto' in 1.2.\n",
            "  FutureWarning,\n"
          ]
        }
      ],
      "source": [
        "from sklearn.manifold import TSNE\n",
        "\n",
        "# Initialize t-SNE\n",
        "tsne = TSNE(n_components = 2, init = 'random', random_state = 10, perplexity = 100)\n",
        "\n",
        "# Use only 400 rows to shorten processing time\n",
        "tsne_df = tsne.fit_transform(df)"
      ]
    },
    {
      "cell_type": "markdown",
      "source": [
        "TSNE was applied and I want to visualize it so I am only doing the top 2 components."
      ],
      "metadata": {
        "id": "IJff0DU6kQ7B"
      },
      "id": "IJff0DU6kQ7B"
    },
    {
      "cell_type": "code",
      "source": [
        "tsne_df.shape"
      ],
      "metadata": {
        "colab": {
          "base_uri": "https://localhost:8080/"
        },
        "id": "gfKnji6M1Ayk",
        "outputId": "26fa8c9a-f580-440d-aee2-43ab6eafa39b"
      },
      "id": "gfKnji6M1Ayk",
      "execution_count": null,
      "outputs": [
        {
          "output_type": "execute_result",
          "data": {
            "text/plain": [
              "(208, 2)"
            ]
          },
          "metadata": {},
          "execution_count": 16
        }
      ]
    },
    {
      "cell_type": "code",
      "source": [
        "ind = list(df.index)"
      ],
      "metadata": {
        "id": "b9jwW78NbVsm"
      },
      "id": "b9jwW78NbVsm",
      "execution_count": null,
      "outputs": []
    },
    {
      "cell_type": "code",
      "source": [
        "tsne_index_df = pd.DataFrame(data = tsne_df, index =ind)"
      ],
      "metadata": {
        "id": "0kNtk1FqlUKr"
      },
      "id": "0kNtk1FqlUKr",
      "execution_count": null,
      "outputs": []
    },
    {
      "cell_type": "code",
      "source": [
        "tsne_df.shape"
      ],
      "metadata": {
        "colab": {
          "base_uri": "https://localhost:8080/"
        },
        "id": "QSUBNpIml2Za",
        "outputId": "074892fd-a51d-4eb6-bd23-2ea338f87075"
      },
      "id": "QSUBNpIml2Za",
      "execution_count": null,
      "outputs": [
        {
          "output_type": "execute_result",
          "data": {
            "text/plain": [
              "(208, 2)"
            ]
          },
          "metadata": {},
          "execution_count": 19
        }
      ]
    },
    {
      "cell_type": "code",
      "execution_count": null,
      "id": "51e9be85",
      "metadata": {
        "id": "51e9be85",
        "outputId": "7a1ba9e3-de51-4726-e69b-604061f088df",
        "colab": {
          "base_uri": "https://localhost:8080/",
          "height": 558
        }
      },
      "outputs": [
        {
          "output_type": "stream",
          "name": "stderr",
          "text": [
            "/usr/local/lib/python3.7/dist-packages/seaborn/_decorators.py:43: FutureWarning: Pass the following variables as keyword args: x, y. From version 0.12, the only valid positional argument will be `data`, and passing other arguments without an explicit keyword will result in an error or misinterpretation.\n",
            "  FutureWarning\n"
          ]
        },
        {
          "output_type": "display_data",
          "data": {
            "image/png": "[encoded data removed]",
            "text/plain": [
              "<Figure size 842.4x595.44 with 1 Axes>"
            ]
          },
          "metadata": {}
        }
      ],
      "source": [
        "sns.set()\n",
        "\n",
        "fig, ax = plt.subplots(figsize = (11.7, 8.27))\n",
        "sns.scatterplot(tsne_df[:, 0], tsne_df[:, 1], alpha = 0.5)\n",
        "\n",
        "# Second plot: Import adjustText, initialize list of texts\n",
        "from adjustText import adjust_text\n",
        "texts = []\n",
        "words_to_plot = list(np.arange(20, 208, 10))\n",
        "\n",
        "# Append words to list\n",
        "for word in words_to_plot:\n",
        "    texts.append(plt.text(tsne_df[word, 0], tsne_df[word, 1], df.index[word], fontsize = 14))\n",
        "    \n",
        "# Plot text using adjust_text (because overlapping text is hard to read)\n",
        "adjust_text(texts, force_points = 0.4, force_text = 0.4, \n",
        "            expand_points = (2,1), expand_text = (1,2),\n",
        "            arrowprops = dict(arrowstyle = \"-\", color = 'black', lw = 0.5))\n",
        "\n",
        "plt.show()"
      ]
    },
    {
      "cell_type": "code",
      "source": [
        "tsne_index_df"
      ],
      "metadata": {
        "colab": {
          "base_uri": "https://localhost:8080/",
          "height": 423
        },
        "id": "W3FR66IZxxpW",
        "outputId": "f4e51830-0d59-4a32-9b41-9b996d4d1ca4"
      },
      "id": "W3FR66IZxxpW",
      "execution_count": null,
      "outputs": [
        {
          "output_type": "execute_result",
          "data": {
            "text/html": [
              "\n",
              "  <div id=\"df-cfeeb204-bb26-4680-aa88-a419545a0c43\">\n",
              "    <div class=\"colab-df-container\">\n",
              "      <div>\n",
              "<style scoped>\n",
              "    .dataframe tbody tr th:only-of-type {\n",
              "        vertical-align: middle;\n",
              "    }\n",
              "\n",
              "    .dataframe tbody tr th {\n",
              "        vertical-align: top;\n",
              "    }\n",
              "\n",
              "    .dataframe thead th {\n",
              "        text-align: right;\n",
              "    }\n",
              "</style>\n",
              "<table border=\"1\" class=\"dataframe\">\n",
              "  <thead>\n",
              "    <tr style=\"text-align: right;\">\n",
              "      <th></th>\n",
              "      <th>0</th>\n",
              "      <th>1</th>\n",
              "    </tr>\n",
              "  </thead>\n",
              "  <tbody>\n",
              "    <tr>\n",
              "      <th>none</th>\n",
              "      <td>0.706281</td>\n",
              "      <td>2.529178</td>\n",
              "    </tr>\n",
              "    <tr>\n",
              "      <th>ablaze</th>\n",
              "      <td>1.330856</td>\n",
              "      <td>0.892686</td>\n",
              "    </tr>\n",
              "    <tr>\n",
              "      <th>accident</th>\n",
              "      <td>2.313478</td>\n",
              "      <td>1.833465</td>\n",
              "    </tr>\n",
              "    <tr>\n",
              "      <th>aftershock</th>\n",
              "      <td>-2.003834</td>\n",
              "      <td>4.022930</td>\n",
              "    </tr>\n",
              "    <tr>\n",
              "      <th>airplane</th>\n",
              "      <td>1.235383</td>\n",
              "      <td>3.263118</td>\n",
              "    </tr>\n",
              "    <tr>\n",
              "      <th>...</th>\n",
              "      <td>...</td>\n",
              "      <td>...</td>\n",
              "    </tr>\n",
              "    <tr>\n",
              "      <th>wounded</th>\n",
              "      <td>2.745104</td>\n",
              "      <td>2.156568</td>\n",
              "    </tr>\n",
              "    <tr>\n",
              "      <th>wounds</th>\n",
              "      <td>2.644991</td>\n",
              "      <td>2.465302</td>\n",
              "    </tr>\n",
              "    <tr>\n",
              "      <th>wreck</th>\n",
              "      <td>2.126297</td>\n",
              "      <td>1.661147</td>\n",
              "    </tr>\n",
              "    <tr>\n",
              "      <th>wreckage</th>\n",
              "      <td>-0.608191</td>\n",
              "      <td>0.439415</td>\n",
              "    </tr>\n",
              "    <tr>\n",
              "      <th>wrecked</th>\n",
              "      <td>0.610369</td>\n",
              "      <td>1.573313</td>\n",
              "    </tr>\n",
              "  </tbody>\n",
              "</table>\n",
              "<p>208 rows × 2 columns</p>\n",
              "</div>\n",
              "      <button class=\"colab-df-convert\" onclick=\"convertToInteractive('df-cfeeb204-bb26-4680-aa88-a419545a0c43')\"\n",
              "              title=\"Convert this dataframe to an interactive table.\"\n",
              "              style=\"display:none;\">\n",
              "        \n",
              "  <svg xmlns=\"http://www.w3.org/2000/svg\" height=\"24px\"viewBox=\"0 0 24 24\"\n",
              "       width=\"24px\">\n",
              "    <path d=\"M0 0h24v24H0V0z\" fill=\"none\"/>\n",
              "    <path d=\"M18.56 5.44l.94 2.06.94-2.06 2.06-.94-2.06-.94-.94-2.06-.94 2.06-2.06.94zm-11 1L8.5 8.5l.94-2.06 2.06-.94-2.06-.94L8.5 2.5l-.94 2.06-2.06.94zm10 10l.94 2.06.94-2.06 2.06-.94-2.06-.94-.94-2.06-.94 2.06-2.06.94z\"/><path d=\"M17.41 7.96l-1.37-1.37c-.4-.4-.92-.59-1.43-.59-.52 0-1.04.2-1.43.59L10.3 9.45l-7.72 7.72c-.78.78-.78 2.05 0 2.83L4 21.41c.39.39.9.59 1.41.59.51 0 1.02-.2 1.41-.59l7.78-7.78 2.81-2.81c.8-.78.8-2.07 0-2.86zM5.41 20L4 18.59l7.72-7.72 1.47 1.35L5.41 20z\"/>\n",
              "  </svg>\n",
              "      </button>\n",
              "      \n",
              "  <style>\n",
              "    .colab-df-container {\n",
              "      display:flex;\n",
              "      flex-wrap:wrap;\n",
              "      gap: 12px;\n",
              "    }\n",
              "\n",
              "    .colab-df-convert {\n",
              "      background-color: #E8F0FE;\n",
              "      border: none;\n",
              "      border-radius: 50%;\n",
              "      cursor: pointer;\n",
              "      display: none;\n",
              "      fill: #1967D2;\n",
              "      height: 32px;\n",
              "      padding: 0 0 0 0;\n",
              "      width: 32px;\n",
              "    }\n",
              "\n",
              "    .colab-df-convert:hover {\n",
              "      background-color: #E2EBFA;\n",
              "      box-shadow: 0px 1px 2px rgba(60, 64, 67, 0.3), 0px 1px 3px 1px rgba(60, 64, 67, 0.15);\n",
              "      fill: #174EA6;\n",
              "    }\n",
              "\n",
              "    [theme=dark] .colab-df-convert {\n",
              "      background-color: #3B4455;\n",
              "      fill: #D2E3FC;\n",
              "    }\n",
              "\n",
              "    [theme=dark] .colab-df-convert:hover {\n",
              "      background-color: #434B5C;\n",
              "      box-shadow: 0px 1px 3px 1px rgba(0, 0, 0, 0.15);\n",
              "      filter: drop-shadow(0px 1px 2px rgba(0, 0, 0, 0.3));\n",
              "      fill: #FFFFFF;\n",
              "    }\n",
              "  </style>\n",
              "\n",
              "      <script>\n",
              "        const buttonEl =\n",
              "          document.querySelector('#df-cfeeb204-bb26-4680-aa88-a419545a0c43 button.colab-df-convert');\n",
              "        buttonEl.style.display =\n",
              "          google.colab.kernel.accessAllowed ? 'block' : 'none';\n",
              "\n",
              "        async function convertToInteractive(key) {\n",
              "          const element = document.querySelector('#df-cfeeb204-bb26-4680-aa88-a419545a0c43');\n",
              "          const dataTable =\n",
              "            await google.colab.kernel.invokeFunction('convertToInteractive',\n",
              "                                                     [key], {});\n",
              "          if (!dataTable) return;\n",
              "\n",
              "          const docLinkHtml = 'Like what you see? Visit the ' +\n",
              "            '<a target=\"_blank\" href=https://colab.research.google.com/notebooks/data_table.ipynb>data table notebook</a>'\n",
              "            + ' to learn more about interactive tables.';\n",
              "          element.innerHTML = '';\n",
              "          dataTable['output_type'] = 'display_data';\n",
              "          await google.colab.output.renderOutput(dataTable, element);\n",
              "          const docLink = document.createElement('div');\n",
              "          docLink.innerHTML = docLinkHtml;\n",
              "          element.appendChild(docLink);\n",
              "        }\n",
              "      </script>\n",
              "    </div>\n",
              "  </div>\n",
              "  "
            ],
            "text/plain": [
              "                   0         1\n",
              "none        0.706281  2.529178\n",
              "ablaze      1.330856  0.892686\n",
              "accident    2.313478  1.833465\n",
              "aftershock -2.003834  4.022930\n",
              "airplane    1.235383  3.263118\n",
              "...              ...       ...\n",
              "wounded     2.745104  2.156568\n",
              "wounds      2.644991  2.465302\n",
              "wreck       2.126297  1.661147\n",
              "wreckage   -0.608191  0.439415\n",
              "wrecked     0.610369  1.573313\n",
              "\n",
              "[208 rows x 2 columns]"
            ]
          },
          "metadata": {},
          "execution_count": 21
        }
      ]
    },
    {
      "cell_type": "markdown",
      "source": [
        "Kmeans clustering will be applied the vectorized keywords to see what relationships appear."
      ],
      "metadata": {
        "id": "Wz2Y6fkEkpiN"
      },
      "id": "Wz2Y6fkEkpiN"
    },
    {
      "cell_type": "code",
      "source": [
        "tsne_kmeans = tsne_index_df[[0,1]]\n",
        "tsne_kmeans"
      ],
      "metadata": {
        "colab": {
          "base_uri": "https://localhost:8080/",
          "height": 423
        },
        "id": "0CINFhdfiIbf",
        "outputId": "01b48812-4e5b-4365-9826-92ca8208b516"
      },
      "id": "0CINFhdfiIbf",
      "execution_count": null,
      "outputs": [
        {
          "output_type": "execute_result",
          "data": {
            "text/html": [
              "\n",
              "  <div id=\"df-7d527156-0a0c-4f58-92df-cf6a90c9e3fa\">\n",
              "    <div class=\"colab-df-container\">\n",
              "      <div>\n",
              "<style scoped>\n",
              "    .dataframe tbody tr th:only-of-type {\n",
              "        vertical-align: middle;\n",
              "    }\n",
              "\n",
              "    .dataframe tbody tr th {\n",
              "        vertical-align: top;\n",
              "    }\n",
              "\n",
              "    .dataframe thead th {\n",
              "        text-align: right;\n",
              "    }\n",
              "</style>\n",
              "<table border=\"1\" class=\"dataframe\">\n",
              "  <thead>\n",
              "    <tr style=\"text-align: right;\">\n",
              "      <th></th>\n",
              "      <th>0</th>\n",
              "      <th>1</th>\n",
              "    </tr>\n",
              "  </thead>\n",
              "  <tbody>\n",
              "    <tr>\n",
              "      <th>none</th>\n",
              "      <td>0.706281</td>\n",
              "      <td>2.529178</td>\n",
              "    </tr>\n",
              "    <tr>\n",
              "      <th>ablaze</th>\n",
              "      <td>1.330856</td>\n",
              "      <td>0.892686</td>\n",
              "    </tr>\n",
              "    <tr>\n",
              "      <th>accident</th>\n",
              "      <td>2.313478</td>\n",
              "      <td>1.833465</td>\n",
              "    </tr>\n",
              "    <tr>\n",
              "      <th>aftershock</th>\n",
              "      <td>-2.003834</td>\n",
              "      <td>4.022930</td>\n",
              "    </tr>\n",
              "    <tr>\n",
              "      <th>airplane</th>\n",
              "      <td>1.235383</td>\n",
              "      <td>3.263118</td>\n",
              "    </tr>\n",
              "    <tr>\n",
              "      <th>...</th>\n",
              "      <td>...</td>\n",
              "      <td>...</td>\n",
              "    </tr>\n",
              "    <tr>\n",
              "      <th>wounded</th>\n",
              "      <td>2.745104</td>\n",
              "      <td>2.156568</td>\n",
              "    </tr>\n",
              "    <tr>\n",
              "      <th>wounds</th>\n",
              "      <td>2.644991</td>\n",
              "      <td>2.465302</td>\n",
              "    </tr>\n",
              "    <tr>\n",
              "      <th>wreck</th>\n",
              "      <td>2.126297</td>\n",
              "      <td>1.661147</td>\n",
              "    </tr>\n",
              "    <tr>\n",
              "      <th>wreckage</th>\n",
              "      <td>-0.608191</td>\n",
              "      <td>0.439415</td>\n",
              "    </tr>\n",
              "    <tr>\n",
              "      <th>wrecked</th>\n",
              "      <td>0.610369</td>\n",
              "      <td>1.573313</td>\n",
              "    </tr>\n",
              "  </tbody>\n",
              "</table>\n",
              "<p>208 rows × 2 columns</p>\n",
              "</div>\n",
              "      <button class=\"colab-df-convert\" onclick=\"convertToInteractive('df-7d527156-0a0c-4f58-92df-cf6a90c9e3fa')\"\n",
              "              title=\"Convert this dataframe to an interactive table.\"\n",
              "              style=\"display:none;\">\n",
              "        \n",
              "  <svg xmlns=\"http://www.w3.org/2000/svg\" height=\"24px\"viewBox=\"0 0 24 24\"\n",
              "       width=\"24px\">\n",
              "    <path d=\"M0 0h24v24H0V0z\" fill=\"none\"/>\n",
              "    <path d=\"M18.56 5.44l.94 2.06.94-2.06 2.06-.94-2.06-.94-.94-2.06-.94 2.06-2.06.94zm-11 1L8.5 8.5l.94-2.06 2.06-.94-2.06-.94L8.5 2.5l-.94 2.06-2.06.94zm10 10l.94 2.06.94-2.06 2.06-.94-2.06-.94-.94-2.06-.94 2.06-2.06.94z\"/><path d=\"M17.41 7.96l-1.37-1.37c-.4-.4-.92-.59-1.43-.59-.52 0-1.04.2-1.43.59L10.3 9.45l-7.72 7.72c-.78.78-.78 2.05 0 2.83L4 21.41c.39.39.9.59 1.41.59.51 0 1.02-.2 1.41-.59l7.78-7.78 2.81-2.81c.8-.78.8-2.07 0-2.86zM5.41 20L4 18.59l7.72-7.72 1.47 1.35L5.41 20z\"/>\n",
              "  </svg>\n",
              "      </button>\n",
              "      \n",
              "  <style>\n",
              "    .colab-df-container {\n",
              "      display:flex;\n",
              "      flex-wrap:wrap;\n",
              "      gap: 12px;\n",
              "    }\n",
              "\n",
              "    .colab-df-convert {\n",
              "      background-color: #E8F0FE;\n",
              "      border: none;\n",
              "      border-radius: 50%;\n",
              "      cursor: pointer;\n",
              "      display: none;\n",
              "      fill: #1967D2;\n",
              "      height: 32px;\n",
              "      padding: 0 0 0 0;\n",
              "      width: 32px;\n",
              "    }\n",
              "\n",
              "    .colab-df-convert:hover {\n",
              "      background-color: #E2EBFA;\n",
              "      box-shadow: 0px 1px 2px rgba(60, 64, 67, 0.3), 0px 1px 3px 1px rgba(60, 64, 67, 0.15);\n",
              "      fill: #174EA6;\n",
              "    }\n",
              "\n",
              "    [theme=dark] .colab-df-convert {\n",
              "      background-color: #3B4455;\n",
              "      fill: #D2E3FC;\n",
              "    }\n",
              "\n",
              "    [theme=dark] .colab-df-convert:hover {\n",
              "      background-color: #434B5C;\n",
              "      box-shadow: 0px 1px 3px 1px rgba(0, 0, 0, 0.15);\n",
              "      filter: drop-shadow(0px 1px 2px rgba(0, 0, 0, 0.3));\n",
              "      fill: #FFFFFF;\n",
              "    }\n",
              "  </style>\n",
              "\n",
              "      <script>\n",
              "        const buttonEl =\n",
              "          document.querySelector('#df-7d527156-0a0c-4f58-92df-cf6a90c9e3fa button.colab-df-convert');\n",
              "        buttonEl.style.display =\n",
              "          google.colab.kernel.accessAllowed ? 'block' : 'none';\n",
              "\n",
              "        async function convertToInteractive(key) {\n",
              "          const element = document.querySelector('#df-7d527156-0a0c-4f58-92df-cf6a90c9e3fa');\n",
              "          const dataTable =\n",
              "            await google.colab.kernel.invokeFunction('convertToInteractive',\n",
              "                                                     [key], {});\n",
              "          if (!dataTable) return;\n",
              "\n",
              "          const docLinkHtml = 'Like what you see? Visit the ' +\n",
              "            '<a target=\"_blank\" href=https://colab.research.google.com/notebooks/data_table.ipynb>data table notebook</a>'\n",
              "            + ' to learn more about interactive tables.';\n",
              "          element.innerHTML = '';\n",
              "          dataTable['output_type'] = 'display_data';\n",
              "          await google.colab.output.renderOutput(dataTable, element);\n",
              "          const docLink = document.createElement('div');\n",
              "          docLink.innerHTML = docLinkHtml;\n",
              "          element.appendChild(docLink);\n",
              "        }\n",
              "      </script>\n",
              "    </div>\n",
              "  </div>\n",
              "  "
            ],
            "text/plain": [
              "                   0         1\n",
              "none        0.706281  2.529178\n",
              "ablaze      1.330856  0.892686\n",
              "accident    2.313478  1.833465\n",
              "aftershock -2.003834  4.022930\n",
              "airplane    1.235383  3.263118\n",
              "...              ...       ...\n",
              "wounded     2.745104  2.156568\n",
              "wounds      2.644991  2.465302\n",
              "wreck       2.126297  1.661147\n",
              "wreckage   -0.608191  0.439415\n",
              "wrecked     0.610369  1.573313\n",
              "\n",
              "[208 rows x 2 columns]"
            ]
          },
          "metadata": {},
          "execution_count": 22
        }
      ]
    },
    {
      "cell_type": "markdown",
      "source": [
        "Silhouette analysis had been conducted and it was found that 4 clusters is by far the best fit for the data."
      ],
      "metadata": {
        "id": "WXtB0yrRloXR"
      },
      "id": "WXtB0yrRloXR"
    },
    {
      "cell_type": "code",
      "source": [
        "kmodel = KMeans(n_clusters = 4, random_state=1)\n",
        "kmodel.fit(tsne_index_df)\n",
        "tsne_index_df['Label'] = kmodel.labels_\n",
        "\n",
        "\n",
        "#cluster_assignments = kmodel.predict(tsne_index_df) "
      ],
      "metadata": {
        "id": "5OA0rWBBv-Ha"
      },
      "id": "5OA0rWBBv-Ha",
      "execution_count": null,
      "outputs": []
    },
    {
      "cell_type": "code",
      "source": [
        "sns.scatterplot(x=0, y = 1, data = tsne_index_df, hue='Label')\n"
      ],
      "metadata": {
        "colab": {
          "base_uri": "https://localhost:8080/",
          "height": 387
        },
        "id": "CKfxQ6limluQ",
        "outputId": "8a2fd776-8ff1-45c1-8864-0faf7a7d972b"
      },
      "id": "CKfxQ6limluQ",
      "execution_count": null,
      "outputs": [
        {
          "output_type": "execute_result",
          "data": {
            "text/plain": [
              "<matplotlib.axes._subplots.AxesSubplot at 0x7fa1b9377490>"
            ]
          },
          "metadata": {},
          "execution_count": 24
        },
        {
          "output_type": "display_data",
          "data": {
            "image/png": "[encoded data removed]",
            "text/plain": [
              "<Figure size 576x396 with 1 Axes>"
            ]
          },
          "metadata": {}
        }
      ]
    },
    {
      "cell_type": "code",
      "source": [
        "tsne_index_df[\"Disaster\"] = tsne_index_df.index\n",
        "tsne_index_df"
      ],
      "metadata": {
        "colab": {
          "base_uri": "https://localhost:8080/",
          "height": 423
        },
        "id": "4irhvQUurr-U",
        "outputId": "e58532f4-481e-4383-81c0-c683b04ed37d"
      },
      "id": "4irhvQUurr-U",
      "execution_count": null,
      "outputs": [
        {
          "output_type": "execute_result",
          "data": {
            "text/html": [
              "\n",
              "  <div id=\"df-2969865f-4020-4246-a8f8-4ff47e27b5c7\">\n",
              "    <div class=\"colab-df-container\">\n",
              "      <div>\n",
              "<style scoped>\n",
              "    .dataframe tbody tr th:only-of-type {\n",
              "        vertical-align: middle;\n",
              "    }\n",
              "\n",
              "    .dataframe tbody tr th {\n",
              "        vertical-align: top;\n",
              "    }\n",
              "\n",
              "    .dataframe thead th {\n",
              "        text-align: right;\n",
              "    }\n",
              "</style>\n",
              "<table border=\"1\" class=\"dataframe\">\n",
              "  <thead>\n",
              "    <tr style=\"text-align: right;\">\n",
              "      <th></th>\n",
              "      <th>0</th>\n",
              "      <th>1</th>\n",
              "      <th>Label</th>\n",
              "      <th>Disaster</th>\n",
              "    </tr>\n",
              "  </thead>\n",
              "  <tbody>\n",
              "    <tr>\n",
              "      <th>none</th>\n",
              "      <td>0.706281</td>\n",
              "      <td>2.529178</td>\n",
              "      <td>0</td>\n",
              "      <td>none</td>\n",
              "    </tr>\n",
              "    <tr>\n",
              "      <th>ablaze</th>\n",
              "      <td>1.330856</td>\n",
              "      <td>0.892686</td>\n",
              "      <td>3</td>\n",
              "      <td>ablaze</td>\n",
              "    </tr>\n",
              "    <tr>\n",
              "      <th>accident</th>\n",
              "      <td>2.313478</td>\n",
              "      <td>1.833465</td>\n",
              "      <td>1</td>\n",
              "      <td>accident</td>\n",
              "    </tr>\n",
              "    <tr>\n",
              "      <th>aftershock</th>\n",
              "      <td>-2.003834</td>\n",
              "      <td>4.022930</td>\n",
              "      <td>2</td>\n",
              "      <td>aftershock</td>\n",
              "    </tr>\n",
              "    <tr>\n",
              "      <th>airplane</th>\n",
              "      <td>1.235383</td>\n",
              "      <td>3.263118</td>\n",
              "      <td>0</td>\n",
              "      <td>airplane</td>\n",
              "    </tr>\n",
              "    <tr>\n",
              "      <th>...</th>\n",
              "      <td>...</td>\n",
              "      <td>...</td>\n",
              "      <td>...</td>\n",
              "      <td>...</td>\n",
              "    </tr>\n",
              "    <tr>\n",
              "      <th>wounded</th>\n",
              "      <td>2.745104</td>\n",
              "      <td>2.156568</td>\n",
              "      <td>1</td>\n",
              "      <td>wounded</td>\n",
              "    </tr>\n",
              "    <tr>\n",
              "      <th>wounds</th>\n",
              "      <td>2.644991</td>\n",
              "      <td>2.465302</td>\n",
              "      <td>1</td>\n",
              "      <td>wounds</td>\n",
              "    </tr>\n",
              "    <tr>\n",
              "      <th>wreck</th>\n",
              "      <td>2.126297</td>\n",
              "      <td>1.661147</td>\n",
              "      <td>1</td>\n",
              "      <td>wreck</td>\n",
              "    </tr>\n",
              "    <tr>\n",
              "      <th>wreckage</th>\n",
              "      <td>-0.608191</td>\n",
              "      <td>0.439415</td>\n",
              "      <td>3</td>\n",
              "      <td>wreckage</td>\n",
              "    </tr>\n",
              "    <tr>\n",
              "      <th>wrecked</th>\n",
              "      <td>0.610369</td>\n",
              "      <td>1.573313</td>\n",
              "      <td>3</td>\n",
              "      <td>wrecked</td>\n",
              "    </tr>\n",
              "  </tbody>\n",
              "</table>\n",
              "<p>208 rows × 4 columns</p>\n",
              "</div>\n",
              "      <button class=\"colab-df-convert\" onclick=\"convertToInteractive('df-2969865f-4020-4246-a8f8-4ff47e27b5c7')\"\n",
              "              title=\"Convert this dataframe to an interactive table.\"\n",
              "              style=\"display:none;\">\n",
              "        \n",
              "  <svg xmlns=\"http://www.w3.org/2000/svg\" height=\"24px\"viewBox=\"0 0 24 24\"\n",
              "       width=\"24px\">\n",
              "    <path d=\"M0 0h24v24H0V0z\" fill=\"none\"/>\n",
              "    <path d=\"M18.56 5.44l.94 2.06.94-2.06 2.06-.94-2.06-.94-.94-2.06-.94 2.06-2.06.94zm-11 1L8.5 8.5l.94-2.06 2.06-.94-2.06-.94L8.5 2.5l-.94 2.06-2.06.94zm10 10l.94 2.06.94-2.06 2.06-.94-2.06-.94-.94-2.06-.94 2.06-2.06.94z\"/><path d=\"M17.41 7.96l-1.37-1.37c-.4-.4-.92-.59-1.43-.59-.52 0-1.04.2-1.43.59L10.3 9.45l-7.72 7.72c-.78.78-.78 2.05 0 2.83L4 21.41c.39.39.9.59 1.41.59.51 0 1.02-.2 1.41-.59l7.78-7.78 2.81-2.81c.8-.78.8-2.07 0-2.86zM5.41 20L4 18.59l7.72-7.72 1.47 1.35L5.41 20z\"/>\n",
              "  </svg>\n",
              "      </button>\n",
              "      \n",
              "  <style>\n",
              "    .colab-df-container {\n",
              "      display:flex;\n",
              "      flex-wrap:wrap;\n",
              "      gap: 12px;\n",
              "    }\n",
              "\n",
              "    .colab-df-convert {\n",
              "      background-color: #E8F0FE;\n",
              "      border: none;\n",
              "      border-radius: 50%;\n",
              "      cursor: pointer;\n",
              "      display: none;\n",
              "      fill: #1967D2;\n",
              "      height: 32px;\n",
              "      padding: 0 0 0 0;\n",
              "      width: 32px;\n",
              "    }\n",
              "\n",
              "    .colab-df-convert:hover {\n",
              "      background-color: #E2EBFA;\n",
              "      box-shadow: 0px 1px 2px rgba(60, 64, 67, 0.3), 0px 1px 3px 1px rgba(60, 64, 67, 0.15);\n",
              "      fill: #174EA6;\n",
              "    }\n",
              "\n",
              "    [theme=dark] .colab-df-convert {\n",
              "      background-color: #3B4455;\n",
              "      fill: #D2E3FC;\n",
              "    }\n",
              "\n",
              "    [theme=dark] .colab-df-convert:hover {\n",
              "      background-color: #434B5C;\n",
              "      box-shadow: 0px 1px 3px 1px rgba(0, 0, 0, 0.15);\n",
              "      filter: drop-shadow(0px 1px 2px rgba(0, 0, 0, 0.3));\n",
              "      fill: #FFFFFF;\n",
              "    }\n",
              "  </style>\n",
              "\n",
              "      <script>\n",
              "        const buttonEl =\n",
              "          document.querySelector('#df-2969865f-4020-4246-a8f8-4ff47e27b5c7 button.colab-df-convert');\n",
              "        buttonEl.style.display =\n",
              "          google.colab.kernel.accessAllowed ? 'block' : 'none';\n",
              "\n",
              "        async function convertToInteractive(key) {\n",
              "          const element = document.querySelector('#df-2969865f-4020-4246-a8f8-4ff47e27b5c7');\n",
              "          const dataTable =\n",
              "            await google.colab.kernel.invokeFunction('convertToInteractive',\n",
              "                                                     [key], {});\n",
              "          if (!dataTable) return;\n",
              "\n",
              "          const docLinkHtml = 'Like what you see? Visit the ' +\n",
              "            '<a target=\"_blank\" href=https://colab.research.google.com/notebooks/data_table.ipynb>data table notebook</a>'\n",
              "            + ' to learn more about interactive tables.';\n",
              "          element.innerHTML = '';\n",
              "          dataTable['output_type'] = 'display_data';\n",
              "          await google.colab.output.renderOutput(dataTable, element);\n",
              "          const docLink = document.createElement('div');\n",
              "          docLink.innerHTML = docLinkHtml;\n",
              "          element.appendChild(docLink);\n",
              "        }\n",
              "      </script>\n",
              "    </div>\n",
              "  </div>\n",
              "  "
            ],
            "text/plain": [
              "                   0         1  Label    Disaster\n",
              "none        0.706281  2.529178      0        none\n",
              "ablaze      1.330856  0.892686      3      ablaze\n",
              "accident    2.313478  1.833465      1    accident\n",
              "aftershock -2.003834  4.022930      2  aftershock\n",
              "airplane    1.235383  3.263118      0    airplane\n",
              "...              ...       ...    ...         ...\n",
              "wounded     2.745104  2.156568      1     wounded\n",
              "wounds      2.644991  2.465302      1      wounds\n",
              "wreck       2.126297  1.661147      1       wreck\n",
              "wreckage   -0.608191  0.439415      3    wreckage\n",
              "wrecked     0.610369  1.573313      3     wrecked\n",
              "\n",
              "[208 rows x 4 columns]"
            ]
          },
          "metadata": {},
          "execution_count": 25
        }
      ]
    },
    {
      "cell_type": "code",
      "source": [
        "fig = px.scatter(tsne_index_df, x=0, y=1,\n",
        "                 color=\"Label\", \n",
        "                 hover_data=[\"Disaster\"])\n",
        "fig.show()"
      ],
      "metadata": {
        "colab": {
          "base_uri": "https://localhost:8080/",
          "height": 542
        },
        "id": "VjEeGux4qO0V",
        "outputId": "fe59b058-b5c4-4180-ac34-e4cc038d6aaf"
      },
      "id": "VjEeGux4qO0V",
      "execution_count": null,
      "outputs": [
        {
          "output_type": "display_data",
          "data": {
            "text/html": [
              "<html>\n",
              "<head><meta charset=\"utf-8\" /></head>\n",
              "<body>\n",
              "    <div>            <script src=\"https://cdnjs.cloudflare.com/ajax/libs/mathjax/2.7.5/MathJax.js?config=TeX-AMS-MML_SVG\"></script><script type=\"text/javascript\">if (window.MathJax) {MathJax.Hub.Config({SVG: {font: \"STIX-Web\"}});}</script>                <script type=\"text/javascript\">window.PlotlyConfig = {MathJaxConfig: 'local'};</script>\n",
              "        <script src=\"https://cdn.plot.ly/plotly-2.8.3.min.js\"></script>                <div id=\"7c59980d-b5b2-4057-8e4b-864a815fdc14\" class=\"plotly-graph-div\" style=\"height:525px; width:100%;\"></div>            <script type=\"text/javascript\">                                    window.PLOTLYENV=window.PLOTLYENV || {};                                    if (document.getElementById(\"7c59980d-b5b2-4057-8e4b-864a815fdc14\")) {                    Plotly.newPlot(                        \"7c59980d-b5b2-4057-8e4b-864a815fdc14\",                        [{\"customdata\":[[\"none\"],[\"ablaze\"],[\"accident\"],[\"aftershock\"],[\"airplane\"],[\"ambulance\"],[\"annihilated\"],[\"annihilation\"],[\"apocalypse\"],[\"armageddon\"],[\"army\"],[\"arson\"],[\"arsonist\"],[\"attack\"],[\"attacked\"],[\"avalanche\"],[\"battle\"],[\"bioterror\"],[\"bioterrorism\"],[\"blaze\"],[\"blazing\"],[\"bleeding\"],[\"blew\"],[\"blight\"],[\"blizzard\"],[\"blood\"],[\"bloody\"],[\"blown\"],[\"body\"],[\"bomb\"],[\"bombed\"],[\"bombing\"],[\"bridge\"],[\"buildings\"],[\"burned\"],[\"burning\"],[\"bush\"],[\"casualties\"],[\"casualty\"],[\"catastrophe\"],[\"catastrophic\"],[\"chemical\"],[\"cliff\"],[\"collapse\"],[\"collapsed\"],[\"collide\"],[\"collided\"],[\"collision\"],[\"crash\"],[\"crashed\"],[\"crush\"],[\"crushed\"],[\"curfew\"],[\"cyclone\"],[\"damage\"],[\"danger\"],[\"dead\"],[\"death\"],[\"deaths\"],[\"debris\"],[\"deluge\"],[\"deluged\"],[\"demolish\"],[\"demolished\"],[\"demolition\"],[\"derail\"],[\"derailed\"],[\"derailment\"],[\"desolate\"],[\"desolation\"],[\"destroy\"],[\"destroyed\"],[\"destruction\"],[\"detonate\"],[\"detonation\"],[\"devastated\"],[\"devastation\"],[\"disaster\"],[\"displaced\"],[\"drought\"],[\"drown\"],[\"drowned\"],[\"drowning\"],[\"dust\"],[\"earthquake\"],[\"electrocute\"],[\"electrocuted\"],[\"emergency\"],[\"engulfed\"],[\"evacuate\"],[\"evacuated\"],[\"evacuation\"],[\"explode\"],[\"exploded\"],[\"explosion\"],[\"eyewitness\"],[\"famine\"],[\"fatal\"],[\"fatalities\"],[\"fatality\"],[\"fear\"],[\"fire\"],[\"first\"],[\"flames\"],[\"flattened\"],[\"flood\"],[\"flooding\"],[\"floods\"],[\"forest\"],[\"hail\"],[\"hailstorm\"],[\"harm\"],[\"hazard\"],[\"hazardous\"],[\"heat\"],[\"hellfire\"],[\"hijack\"],[\"hijacker\"],[\"hijacking\"],[\"hostage\"],[\"hostages\"],[\"hurricane\"],[\"injured\"],[\"injuries\"],[\"injury\"],[\"inundated\"],[\"inundation\"],[\"landslide\"],[\"lava\"],[\"lightning\"],[\"loud\"],[\"mass\"],[\"massacre\"],[\"mayhem\"],[\"meltdown\"],[\"military\"],[\"mudslide\"],[\"natural\"],[\"nuclear\"],[\"obliterate\"],[\"obliterated\"],[\"obliteration\"],[\"oil\"],[\"outbreak\"],[\"pandemonium\"],[\"panic\"],[\"panicking\"],[\"police\"],[\"quarantine\"],[\"quarantined\"],[\"radiation\"],[\"rainstorm\"],[\"razed\"],[\"refugees\"],[\"rescue\"],[\"rescued\"],[\"rescuers\"],[\"riot\"],[\"rioting\"],[\"rubble\"],[\"ruin\"],[\"sandstorm\"],[\"screamed\"],[\"screaming\"],[\"screams\"],[\"seismic\"],[\"sinkhole\"],[\"sinking\"],[\"siren\"],[\"sirens\"],[\"smoke\"],[\"snowstorm\"],[\"storm\"],[\"stretcher\"],[\"structural\"],[\"suicide\"],[\"sunk\"],[\"survive\"],[\"survived\"],[\"survivors\"],[\"terrorism\"],[\"terrorist\"],[\"threat\"],[\"thunder\"],[\"thunderstorm\"],[\"tornado\"],[\"tragedy\"],[\"trapped\"],[\"trauma\"],[\"trouble\"],[\"tsunami\"],[\"twister\"],[\"typhoon\"],[\"upheaval\"],[\"violent\"],[\"volcano\"],[\"war\"],[\"weapon\"],[\"weapons\"],[\"whirlwind\"],[\"wild\"],[\"wildfire\"],[\"windstorm\"],[\"wounded\"],[\"wounds\"],[\"wreck\"],[\"wreckage\"],[\"wrecked\"]],\"hovertemplate\":\"0=%{x}<br>1=%{y}<br>Disaster=%{customdata[0]}<br>Label=%{marker.color}<extra></extra>\",\"legendgroup\":\"\",\"marker\":{\"color\":[0,3,1,2,0,1,3,0,0,0,0,1,1,1,1,2,0,0,0,3,3,1,3,0,2,1,0,3,1,1,3,1,3,3,3,3,0,1,1,0,0,0,3,0,3,1,1,1,1,1,3,3,0,2,0,0,1,1,1,3,2,2,3,3,3,3,3,1,0,0,3,3,0,1,1,3,0,0,3,2,3,3,3,3,2,3,3,0,3,0,0,0,3,3,1,1,0,1,1,1,0,3,0,3,3,2,2,2,0,2,2,0,0,0,0,0,1,1,1,3,3,2,1,1,1,2,2,2,2,2,1,0,1,0,0,0,2,0,0,3,3,0,0,0,0,0,0,1,0,0,0,2,3,2,3,3,3,0,0,3,3,2,1,1,1,2,2,3,3,3,3,2,2,1,0,1,3,3,3,3,0,0,0,2,2,2,0,3,1,0,2,2,2,0,0,2,0,0,0,0,0,3,2,1,1,1,3,3],\"coloraxis\":\"coloraxis\",\"symbol\":\"circle\"},\"mode\":\"markers\",\"name\":\"\",\"orientation\":\"v\",\"showlegend\":false,\"x\":[0.7062809467315674,1.3308563232421875,2.3134775161743164,-2.0038342475891113,1.2353830337524414,2.3363301753997803,0.4345165193080902,-0.1283896565437317,-0.2593022584915161,-0.24517792463302612,1.2969601154327393,2.9303359985351562,3.1183254718780518,1.4755395650863647,1.2731953859329224,-1.917893886566162,0.9628307819366455,1.4047589302062988,1.4087806940078735,1.553529977798462,0.8948098421096802,1.8203926086425781,1.2433077096939087,-0.3278006613254547,-2.08003830909729,1.8131771087646484,1.1850939989089966,0.9577195048332214,1.2712347507476807,2.323796510696411,1.2533036470413208,2.291215658187866,-0.2630074620246887,-0.29648980498313904,1.0377213954925537,1.084180235862732,1.071993350982666,2.9241671562194824,2.7467122077941895,-0.27803298830986023,0.19289857149124146,0.956915557384491,-0.27296024560928345,-0.14272180199623108,0.41778960824012756,2.633221387863159,2.8781492710113525,2.648160934448242,2.3687477111816406,2.3843626976013184,0.6738647222518921,0.6604846119880676,0.7573400735855103,-2.109621047973633,0.2149885892868042,0.5823028087615967,1.392137050628662,1.7385735511779785,3.065594434738159,-0.7205772995948792,-1.2714966535568237,-1.305680751800537,-0.5099327564239502,-0.27164724469184875,-0.5668013691902161,0.6836961507797241,0.7625343203544617,2.970611333847046,0.05682764947414398,-0.22441479563713074,0.5162608027458191,0.45104849338531494,-0.014214816503226757,2.361971616744995,2.258418321609497,0.13899239897727966,-0.3632931709289551,-0.444872111082077,-0.7609238624572754,-1.13182532787323,0.6811015009880066,0.6583408117294312,0.6430383324623108,-0.4144485592842102,-1.8667727708816528,1.022056221961975,0.966535747051239,1.285232424736023,0.7080927491188049,-0.8240900039672852,-0.8250486850738525,-0.8025230169296265,1.5344271659851074,1.5699362754821777,1.913485050201416,2.0516562461853027,-0.7989986538887024,2.0389091968536377,3.301190137863159,3.288778066635132,0.599521815776825,1.2475578784942627,0.7228015661239624,1.3440477848052979,0.37563207745552063,-1.3297795057296753,-1.425186038017273,-1.4106568098068237,0.9776025414466858,-0.8220022916793823,-1.637842059135437,0.6310630440711975,0.53549724817276,0.6576675772666931,0.8239312767982483,0.1538156121969223,2.500162124633789,2.6180918216705322,2.4945552349090576,-0.04138471931219101,-0.0668729841709137,-1.953501582145691,2.5942933559417725,2.636862277984619,2.5836665630340576,-1.275823712348938,-1.3995486497879028,-2.043288469314575,-1.9602280855178833,-0.7826123833656311,1.3618570566177368,0.8175698518753052,2.0722219944000244,0.4112975597381592,-0.3318159282207489,1.215056300163269,-2.2731876373291016,0.5978562235832214,1.0829224586486816,0.47881045937538147,0.4068079888820648,-0.12762270867824554,0.9069968461990356,-0.15400797128677368,0.3747286796569824,0.39029863476753235,0.5319452881813049,1.5102607011795044,0.040877148509025574,0.018380755558609962,0.7135075926780701,-1.760456919670105,-0.3428391218185425,-0.9624858498573303,0.0031265064608305693,0.2327650636434555,-0.2674320340156555,1.7181665897369385,1.8527835607528687,-0.7414199709892273,0.36145055294036865,-2.472773313522339,1.6717435121536255,1.4815373420715332,1.4522181749343872,-1.6065609455108643,-1.7669861316680908,0.3087835907936096,2.089411973953247,2.1108574867248535,1.3209455013275146,-2.1436402797698975,-1.6955554485321045,3.41237211227417,-0.05085016041994095,2.2909231185913086,0.38627877831459045,0.4517709016799927,0.39871200919151306,-0.30865737795829773,1.601793885231018,1.7191840410232544,0.6115182638168335,-0.6308011412620544,-1.8894917964935303,-2.6571156978607178,-0.0002991887740790844,0.41704249382019043,1.985998272895813,0.6733152270317078,-1.707140326499939,-2.7090702056884766,-2.2400248050689697,-0.12076666951179504,1.2378650903701782,-2.0195300579071045,0.9780527353286743,1.3828154802322388,1.3262805938720703,-0.12417473644018173,0.7045592069625854,1.521929383277893,-1.8505206108093262,2.7451043128967285,2.6449906826019287,2.1262974739074707,-0.6081914901733398,0.6103693246841431],\"xaxis\":\"x\",\"y\":[2.5291781425476074,0.8926859498023987,1.8334646224975586,4.022929668426514,3.263117551803589,2.6783182621002197,1.7780494689941406,3.391634225845337,3.9114136695861816,3.7925539016723633,3.1107730865478516,3.542233943939209,3.6749510765075684,2.397660493850708,1.9357165098190308,2.3968141078948975,2.763880968093872,5.258078575134277,5.265748500823975,0.4953675866127014,2.0247018337249756,2.5169970989227295,1.1414990425109863,2.4616849422454834,2.712029218673706,2.9572503566741943,2.759746789932251,1.3960050344467163,2.541670799255371,0.885153591632843,1.3698062896728516,1.2482929229736328,1.829473614692688,1.8252434730529785,1.42906653881073,1.6621801853179932,3.038853168487549,2.7851881980895996,2.8318188190460205,3.28947377204895,2.9948267936706543,3.684248208999634,0.6424670815467834,2.3459229469299316,1.2770013809204102,1.1314318180084229,1.0799156427383423,1.4917248487472534,1.6326708793640137,1.183280348777771,2.106457471847534,1.5609538555145264,4.989257335662842,3.686323642730713,2.3916616439819336,3.0733540058135986,2.303511619567871,2.682466745376587,2.863914966583252,0.656404435634613,2.7898592948913574,2.2128310203552246,1.327809453010559,1.3911402225494385,1.4113956689834595,1.117789387702942,1.0470893383026123,1.3317211866378784,2.474177122116089,2.856717586517334,2.0592153072357178,1.613034963607788,2.838961124420166,0.5825003981590271,0.8074750900268555,1.9976155757904053,2.9736247062683105,3.2398886680603027,1.5947976112365723,3.563601016998291,0.18320809304714203,0.10048006474971771,0.24179185926914215,2.0096676349639893,3.8059492111206055,-0.35259881615638733,-0.42912882566452026,3.131077766418457,1.249539852142334,4.997232913970947,5.027040481567383,4.965023517608643,1.2310348749160767,1.1389704942703247,1.147325038909912,2.412238121032715,3.8984713554382324,2.5994699001312256,2.8462023735046387,2.829411506652832,2.8852412700653076,1.5663502216339111,2.5499863624572754,0.7358413934707642,1.5068233013153076,3.033809185028076,3.028404951095581,3.09787654876709,3.3145813941955566,2.4356977939605713,2.834228515625,2.643922805786133,3.8494088649749756,3.8342788219451904,2.3570778369903564,3.727668285369873,4.221896171569824,4.4690375328063965,4.217544078826904,-0.7051112651824951,-0.750149667263031,3.4839837551116943,2.104663610458374,2.340139150619507,2.307497978210449,2.2268800735473633,3.1293563842773438,2.0556156635284424,0.7200313806533813,2.4676425457000732,1.9680274724960327,2.897557497024536,3.386366367340088,3.225086212158203,3.107076406478882,3.149765729904175,2.104214906692505,2.8131918907165527,4.391366481781006,2.0345070362091064,1.6668280363082886,3.104339838027954,3.422577142715454,4.281933307647705,3.596097469329834,3.1650710105895996,2.82588267326355,2.727971315383911,5.217900276184082,5.206209182739258,4.599114894866943,2.7806813716888428,1.2970011234283447,1.4828683137893677,0.5549688935279846,0.5214394927024841,0.24076980352401733,3.701282501220703,3.8727195262908936,0.36952170729637146,2.2115132808685303,2.565452814102173,1.8746999502182007,2.0086300373077393,1.974822759628296,1.568544864654541,1.6203008890151978,1.6116054058074951,-0.02070869505405426,-0.05755959451198578,0.8674874901771545,2.726975440979004,3.0746994018554688,2.063011884689331,2.3103203773498535,3.127117156982422,1.5160149335861206,1.8456389904022217,1.3252806663513184,1.0999212265014648,4.326676368713379,4.336345672607422,3.257272958755493,2.3869705200195312,2.835599422454834,3.374734401702881,3.272542953491211,0.8677135109901428,2.7722392082214355,2.686568021774292,3.7382822036743164,3.379094362258911,3.72892165184021,3.14692759513855,3.0008020401000977,0.7516953349113464,3.166741371154785,3.8971240520477295,3.897233486175537,3.005949020385742,2.7235872745513916,0.06763380765914917,3.1025161743164062,2.1565675735473633,2.4653024673461914,1.661146640777588,0.43941542506217957,1.5733133554458618],\"yaxis\":\"y\",\"type\":\"scatter\"}],                        {\"template\":{\"data\":{\"bar\":[{\"error_x\":{\"color\":\"#2a3f5f\"},\"error_y\":{\"color\":\"#2a3f5f\"},\"marker\":{\"line\":{\"color\":\"#E5ECF6\",\"width\":0.5},\"pattern\":{\"fillmode\":\"overlay\",\"size\":10,\"solidity\":0.2}},\"type\":\"bar\"}],\"barpolar\":[{\"marker\":{\"line\":{\"color\":\"#E5ECF6\",\"width\":0.5},\"pattern\":{\"fillmode\":\"overlay\",\"size\":10,\"solidity\":0.2}},\"type\":\"barpolar\"}],\"carpet\":[{\"aaxis\":{\"endlinecolor\":\"#2a3f5f\",\"gridcolor\":\"white\",\"linecolor\":\"white\",\"minorgridcolor\":\"white\",\"startlinecolor\":\"#2a3f5f\"},\"baxis\":{\"endlinecolor\":\"#2a3f5f\",\"gridcolor\":\"white\",\"linecolor\":\"white\",\"minorgridcolor\":\"white\",\"startlinecolor\":\"#2a3f5f\"},\"type\":\"carpet\"}],\"choropleth\":[{\"colorbar\":{\"outlinewidth\":0,\"ticks\":\"\"},\"type\":\"choropleth\"}],\"contour\":[{\"colorbar\":{\"outlinewidth\":0,\"ticks\":\"\"},\"colorscale\":[[0.0,\"#0d0887\"],[0.1111111111111111,\"#46039f\"],[0.2222222222222222,\"#7201a8\"],[0.3333333333333333,\"#9c179e\"],[0.4444444444444444,\"#bd3786\"],[0.5555555555555556,\"#d8576b\"],[0.6666666666666666,\"#ed7953\"],[0.7777777777777778,\"#fb9f3a\"],[0.8888888888888888,\"#fdca26\"],[1.0,\"#f0f921\"]],\"type\":\"contour\"}],\"contourcarpet\":[{\"colorbar\":{\"outlinewidth\":0,\"ticks\":\"\"},\"type\":\"contourcarpet\"}],\"heatmap\":[{\"colorbar\":{\"outlinewidth\":0,\"ticks\":\"\"},\"colorscale\":[[0.0,\"#0d0887\"],[0.1111111111111111,\"#46039f\"],[0.2222222222222222,\"#7201a8\"],[0.3333333333333333,\"#9c179e\"],[0.4444444444444444,\"#bd3786\"],[0.5555555555555556,\"#d8576b\"],[0.6666666666666666,\"#ed7953\"],[0.7777777777777778,\"#fb9f3a\"],[0.8888888888888888,\"#fdca26\"],[1.0,\"#f0f921\"]],\"type\":\"heatmap\"}],\"heatmapgl\":[{\"colorbar\":{\"outlinewidth\":0,\"ticks\":\"\"},\"colorscale\":[[0.0,\"#0d0887\"],[0.1111111111111111,\"#46039f\"],[0.2222222222222222,\"#7201a8\"],[0.3333333333333333,\"#9c179e\"],[0.4444444444444444,\"#bd3786\"],[0.5555555555555556,\"#d8576b\"],[0.6666666666666666,\"#ed7953\"],[0.7777777777777778,\"#fb9f3a\"],[0.8888888888888888,\"#fdca26\"],[1.0,\"#f0f921\"]],\"type\":\"heatmapgl\"}],\"histogram\":[{\"marker\":{\"pattern\":{\"fillmode\":\"overlay\",\"size\":10,\"solidity\":0.2}},\"type\":\"histogram\"}],\"histogram2d\":[{\"colorbar\":{\"outlinewidth\":0,\"ticks\":\"\"},\"colorscale\":[[0.0,\"#0d0887\"],[0.1111111111111111,\"#46039f\"],[0.2222222222222222,\"#7201a8\"],[0.3333333333333333,\"#9c179e\"],[0.4444444444444444,\"#bd3786\"],[0.5555555555555556,\"#d8576b\"],[0.6666666666666666,\"#ed7953\"],[0.7777777777777778,\"#fb9f3a\"],[0.8888888888888888,\"#fdca26\"],[1.0,\"#f0f921\"]],\"type\":\"histogram2d\"}],\"histogram2dcontour\":[{\"colorbar\":{\"outlinewidth\":0,\"ticks\":\"\"},\"colorscale\":[[0.0,\"#0d0887\"],[0.1111111111111111,\"#46039f\"],[0.2222222222222222,\"#7201a8\"],[0.3333333333333333,\"#9c179e\"],[0.4444444444444444,\"#bd3786\"],[0.5555555555555556,\"#d8576b\"],[0.6666666666666666,\"#ed7953\"],[0.7777777777777778,\"#fb9f3a\"],[0.8888888888888888,\"#fdca26\"],[1.0,\"#f0f921\"]],\"type\":\"histogram2dcontour\"}],\"mesh3d\":[{\"colorbar\":{\"outlinewidth\":0,\"ticks\":\"\"},\"type\":\"mesh3d\"}],\"parcoords\":[{\"line\":{\"colorbar\":{\"outlinewidth\":0,\"ticks\":\"\"}},\"type\":\"parcoords\"}],\"pie\":[{\"automargin\":true,\"type\":\"pie\"}],\"scatter\":[{\"marker\":{\"colorbar\":{\"outlinewidth\":0,\"ticks\":\"\"}},\"type\":\"scatter\"}],\"scatter3d\":[{\"line\":{\"colorbar\":{\"outlinewidth\":0,\"ticks\":\"\"}},\"marker\":{\"colorbar\":{\"outlinewidth\":0,\"ticks\":\"\"}},\"type\":\"scatter3d\"}],\"scattercarpet\":[{\"marker\":{\"colorbar\":{\"outlinewidth\":0,\"ticks\":\"\"}},\"type\":\"scattercarpet\"}],\"scattergeo\":[{\"marker\":{\"colorbar\":{\"outlinewidth\":0,\"ticks\":\"\"}},\"type\":\"scattergeo\"}],\"scattergl\":[{\"marker\":{\"colorbar\":{\"outlinewidth\":0,\"ticks\":\"\"}},\"type\":\"scattergl\"}],\"scattermapbox\":[{\"marker\":{\"colorbar\":{\"outlinewidth\":0,\"ticks\":\"\"}},\"type\":\"scattermapbox\"}],\"scatterpolar\":[{\"marker\":{\"colorbar\":{\"outlinewidth\":0,\"ticks\":\"\"}},\"type\":\"scatterpolar\"}],\"scatterpolargl\":[{\"marker\":{\"colorbar\":{\"outlinewidth\":0,\"ticks\":\"\"}},\"type\":\"scatterpolargl\"}],\"scatterternary\":[{\"marker\":{\"colorbar\":{\"outlinewidth\":0,\"ticks\":\"\"}},\"type\":\"scatterternary\"}],\"surface\":[{\"colorbar\":{\"outlinewidth\":0,\"ticks\":\"\"},\"colorscale\":[[0.0,\"#0d0887\"],[0.1111111111111111,\"#46039f\"],[0.2222222222222222,\"#7201a8\"],[0.3333333333333333,\"#9c179e\"],[0.4444444444444444,\"#bd3786\"],[0.5555555555555556,\"#d8576b\"],[0.6666666666666666,\"#ed7953\"],[0.7777777777777778,\"#fb9f3a\"],[0.8888888888888888,\"#fdca26\"],[1.0,\"#f0f921\"]],\"type\":\"surface\"}],\"table\":[{\"cells\":{\"fill\":{\"color\":\"#EBF0F8\"},\"line\":{\"color\":\"white\"}},\"header\":{\"fill\":{\"color\":\"#C8D4E3\"},\"line\":{\"color\":\"white\"}},\"type\":\"table\"}]},\"layout\":{\"annotationdefaults\":{\"arrowcolor\":\"#2a3f5f\",\"arrowhead\":0,\"arrowwidth\":1},\"autotypenumbers\":\"strict\",\"coloraxis\":{\"colorbar\":{\"outlinewidth\":0,\"ticks\":\"\"}},\"colorscale\":{\"diverging\":[[0,\"#8e0152\"],[0.1,\"#c51b7d\"],[0.2,\"#de77ae\"],[0.3,\"#f1b6da\"],[0.4,\"#fde0ef\"],[0.5,\"#f7f7f7\"],[0.6,\"#e6f5d0\"],[0.7,\"#b8e186\"],[0.8,\"#7fbc41\"],[0.9,\"#4d9221\"],[1,\"#276419\"]],\"sequential\":[[0.0,\"#0d0887\"],[0.1111111111111111,\"#46039f\"],[0.2222222222222222,\"#7201a8\"],[0.3333333333333333,\"#9c179e\"],[0.4444444444444444,\"#bd3786\"],[0.5555555555555556,\"#d8576b\"],[0.6666666666666666,\"#ed7953\"],[0.7777777777777778,\"#fb9f3a\"],[0.8888888888888888,\"#fdca26\"],[1.0,\"#f0f921\"]],\"sequentialminus\":[[0.0,\"#0d0887\"],[0.1111111111111111,\"#46039f\"],[0.2222222222222222,\"#7201a8\"],[0.3333333333333333,\"#9c179e\"],[0.4444444444444444,\"#bd3786\"],[0.5555555555555556,\"#d8576b\"],[0.6666666666666666,\"#ed7953\"],[0.7777777777777778,\"#fb9f3a\"],[0.8888888888888888,\"#fdca26\"],[1.0,\"#f0f921\"]]},\"colorway\":[\"#636efa\",\"#EF553B\",\"#00cc96\",\"#ab63fa\",\"#FFA15A\",\"#19d3f3\",\"#FF6692\",\"#B6E880\",\"#FF97FF\",\"#FECB52\"],\"font\":{\"color\":\"#2a3f5f\"},\"geo\":{\"bgcolor\":\"white\",\"lakecolor\":\"white\",\"landcolor\":\"#E5ECF6\",\"showlakes\":true,\"showland\":true,\"subunitcolor\":\"white\"},\"hoverlabel\":{\"align\":\"left\"},\"hovermode\":\"closest\",\"mapbox\":{\"style\":\"light\"},\"paper_bgcolor\":\"white\",\"plot_bgcolor\":\"#E5ECF6\",\"polar\":{\"angularaxis\":{\"gridcolor\":\"white\",\"linecolor\":\"white\",\"ticks\":\"\"},\"bgcolor\":\"#E5ECF6\",\"radialaxis\":{\"gridcolor\":\"white\",\"linecolor\":\"white\",\"ticks\":\"\"}},\"scene\":{\"xaxis\":{\"backgroundcolor\":\"#E5ECF6\",\"gridcolor\":\"white\",\"gridwidth\":2,\"linecolor\":\"white\",\"showbackground\":true,\"ticks\":\"\",\"zerolinecolor\":\"white\"},\"yaxis\":{\"backgroundcolor\":\"#E5ECF6\",\"gridcolor\":\"white\",\"gridwidth\":2,\"linecolor\":\"white\",\"showbackground\":true,\"ticks\":\"\",\"zerolinecolor\":\"white\"},\"zaxis\":{\"backgroundcolor\":\"#E5ECF6\",\"gridcolor\":\"white\",\"gridwidth\":2,\"linecolor\":\"white\",\"showbackground\":true,\"ticks\":\"\",\"zerolinecolor\":\"white\"}},\"shapedefaults\":{\"line\":{\"color\":\"#2a3f5f\"}},\"ternary\":{\"aaxis\":{\"gridcolor\":\"white\",\"linecolor\":\"white\",\"ticks\":\"\"},\"baxis\":{\"gridcolor\":\"white\",\"linecolor\":\"white\",\"ticks\":\"\"},\"bgcolor\":\"#E5ECF6\",\"caxis\":{\"gridcolor\":\"white\",\"linecolor\":\"white\",\"ticks\":\"\"}},\"title\":{\"x\":0.05},\"xaxis\":{\"automargin\":true,\"gridcolor\":\"white\",\"linecolor\":\"white\",\"ticks\":\"\",\"title\":{\"standoff\":15},\"zerolinecolor\":\"white\",\"zerolinewidth\":2},\"yaxis\":{\"automargin\":true,\"gridcolor\":\"white\",\"linecolor\":\"white\",\"ticks\":\"\",\"title\":{\"standoff\":15},\"zerolinecolor\":\"white\",\"zerolinewidth\":2}}},\"xaxis\":{\"anchor\":\"y\",\"domain\":[0.0,1.0],\"title\":{\"text\":\"0\"}},\"yaxis\":{\"anchor\":\"x\",\"domain\":[0.0,1.0],\"title\":{\"text\":\"1\"}},\"coloraxis\":{\"colorbar\":{\"title\":{\"text\":\"Label\"}},\"colorscale\":[[0.0,\"#0d0887\"],[0.1111111111111111,\"#46039f\"],[0.2222222222222222,\"#7201a8\"],[0.3333333333333333,\"#9c179e\"],[0.4444444444444444,\"#bd3786\"],[0.5555555555555556,\"#d8576b\"],[0.6666666666666666,\"#ed7953\"],[0.7777777777777778,\"#fb9f3a\"],[0.8888888888888888,\"#fdca26\"],[1.0,\"#f0f921\"]]},\"legend\":{\"tracegroupgap\":0},\"margin\":{\"t\":60}},                        {\"responsive\": true}                    ).then(function(){\n",
              "                            \n",
              "var gd = document.getElementById('7c59980d-b5b2-4057-8e4b-864a815fdc14');\n",
              "var x = new MutationObserver(function (mutations, observer) {{\n",
              "        var display = window.getComputedStyle(gd).display;\n",
              "        if (!display || display === 'none') {{\n",
              "            console.log([gd, 'removed!']);\n",
              "            Plotly.purge(gd);\n",
              "            observer.disconnect();\n",
              "        }}\n",
              "}});\n",
              "\n",
              "// Listen for the removal of the full notebook cells\n",
              "var notebookContainer = gd.closest('#notebook-container');\n",
              "if (notebookContainer) {{\n",
              "    x.observe(notebookContainer, {childList: true});\n",
              "}}\n",
              "\n",
              "// Listen for the clearing of the current output cell\n",
              "var outputEl = gd.closest('.output');\n",
              "if (outputEl) {{\n",
              "    x.observe(outputEl, {childList: true});\n",
              "}}\n",
              "\n",
              "                        })                };                            </script>        </div>\n",
              "</body>\n",
              "</html>"
            ]
          },
          "metadata": {}
        }
      ]
    },
    {
      "cell_type": "markdown",
      "source": [
        "Looking through the plot it looks like the general categories are: red = natural disasters, blue = global disasters (e.g. armageddon), yellow = home and personal issues (electrocuted, hostages), and purple = personal disasters (injury).\n",
        "This is interesting and I like the graphic but not sure what can be done with the results."
      ],
      "metadata": {
        "id": "FYalhVXwlZCr"
      },
      "id": "FYalhVXwlZCr"
    },
    {
      "cell_type": "code",
      "source": [
        "tsne_index_df.index"
      ],
      "metadata": {
        "colab": {
          "base_uri": "https://localhost:8080/"
        },
        "id": "znzfM4cHqsHE",
        "outputId": "97dc4506-733a-48a7-8c5a-bf6aa9ca59d8"
      },
      "id": "znzfM4cHqsHE",
      "execution_count": null,
      "outputs": [
        {
          "output_type": "execute_result",
          "data": {
            "text/plain": [
              "Index(['none', 'ablaze', 'accident', 'aftershock', 'airplane', 'ambulance',\n",
              "       'annihilated', 'annihilation', 'apocalypse', 'armageddon',\n",
              "       ...\n",
              "       'weapons', 'whirlwind', 'wild', 'wildfire', 'windstorm', 'wounded',\n",
              "       'wounds', 'wreck', 'wreckage', 'wrecked'],\n",
              "      dtype='object', length=208)"
            ]
          },
          "metadata": {},
          "execution_count": 27
        }
      ]
    },
    {
      "cell_type": "code",
      "source": [
        "visualizer = KElbowVisualizer(KMeans(), k=(2,7), metric = \"silhouette\", timings = True)\n",
        "visualizer.fit(tsne_kmeans)"
      ],
      "metadata": {
        "colab": {
          "base_uri": "https://localhost:8080/",
          "height": 995
        },
        "id": "25OITN97gmQ4",
        "outputId": "daeb480a-a8cd-42c6-f5a2-6fdb6b5742ae"
      },
      "id": "25OITN97gmQ4",
      "execution_count": null,
      "outputs": [
        {
          "output_type": "error",
          "ename": "AttributeError",
          "evalue": "ignored",
          "traceback": [
            "\u001b[0;31m---------------------------------------------------------------------------\u001b[0m",
            "\u001b[0;31mAttributeError\u001b[0m                            Traceback (most recent call last)",
            "\u001b[0;32m/usr/local/lib/python3.7/dist-packages/IPython/core/formatters.py\u001b[0m in \u001b[0;36m__call__\u001b[0;34m(self, obj, include, exclude)\u001b[0m\n\u001b[1;32m    968\u001b[0m                 \u001b[0md\u001b[0m\u001b[0;34m[\u001b[0m\u001b[0;34m'include'\u001b[0m\u001b[0;34m]\u001b[0m \u001b[0;34m=\u001b[0m \u001b[0minclude\u001b[0m\u001b[0;34m\u001b[0m\u001b[0;34m\u001b[0m\u001b[0m\n\u001b[1;32m    969\u001b[0m                 \u001b[0md\u001b[0m\u001b[0;34m[\u001b[0m\u001b[0;34m'exclude'\u001b[0m\u001b[0;34m]\u001b[0m \u001b[0;34m=\u001b[0m \u001b[0mexclude\u001b[0m\u001b[0;34m\u001b[0m\u001b[0;34m\u001b[0m\u001b[0m\n\u001b[0;32m--> 970\u001b[0;31m                 \u001b[0;32mreturn\u001b[0m \u001b[0mmethod\u001b[0m\u001b[0;34m(\u001b[0m\u001b[0;34m**\u001b[0m\u001b[0md\u001b[0m\u001b[0;34m)\u001b[0m\u001b[0;34m\u001b[0m\u001b[0;34m\u001b[0m\u001b[0m\n\u001b[0m\u001b[1;32m    971\u001b[0m             \u001b[0;32mreturn\u001b[0m \u001b[0;32mNone\u001b[0m\u001b[0;34m\u001b[0m\u001b[0;34m\u001b[0m\u001b[0m\n\u001b[1;32m    972\u001b[0m         \u001b[0;32melse\u001b[0m\u001b[0;34m:\u001b[0m\u001b[0;34m\u001b[0m\u001b[0;34m\u001b[0m\u001b[0m\n",
            "\u001b[0;32m/usr/local/lib/python3.7/dist-packages/sklearn/base.py\u001b[0m in \u001b[0;36m_repr_mimebundle_\u001b[0;34m(self, **kwargs)\u001b[0m\n\u001b[1;32m    612\u001b[0m     \u001b[0;32mdef\u001b[0m \u001b[0m_repr_mimebundle_\u001b[0m\u001b[0;34m(\u001b[0m\u001b[0mself\u001b[0m\u001b[0;34m,\u001b[0m \u001b[0;34m**\u001b[0m\u001b[0mkwargs\u001b[0m\u001b[0;34m)\u001b[0m\u001b[0;34m:\u001b[0m\u001b[0;34m\u001b[0m\u001b[0;34m\u001b[0m\u001b[0m\n\u001b[1;32m    613\u001b[0m         \u001b[0;34m\"\"\"Mime bundle used by jupyter kernels to display estimator\"\"\"\u001b[0m\u001b[0;34m\u001b[0m\u001b[0;34m\u001b[0m\u001b[0m\n\u001b[0;32m--> 614\u001b[0;31m         \u001b[0moutput\u001b[0m \u001b[0;34m=\u001b[0m \u001b[0;34m{\u001b[0m\u001b[0;34m\"text/plain\"\u001b[0m\u001b[0;34m:\u001b[0m \u001b[0mrepr\u001b[0m\u001b[0;34m(\u001b[0m\u001b[0mself\u001b[0m\u001b[0;34m)\u001b[0m\u001b[0;34m}\u001b[0m\u001b[0;34m\u001b[0m\u001b[0;34m\u001b[0m\u001b[0m\n\u001b[0m\u001b[1;32m    615\u001b[0m         \u001b[0;32mif\u001b[0m \u001b[0mget_config\u001b[0m\u001b[0;34m(\u001b[0m\u001b[0;34m)\u001b[0m\u001b[0;34m[\u001b[0m\u001b[0;34m\"display\"\u001b[0m\u001b[0;34m]\u001b[0m \u001b[0;34m==\u001b[0m \u001b[0;34m\"diagram\"\u001b[0m\u001b[0;34m:\u001b[0m\u001b[0;34m\u001b[0m\u001b[0;34m\u001b[0m\u001b[0m\n\u001b[1;32m    616\u001b[0m             \u001b[0moutput\u001b[0m\u001b[0;34m[\u001b[0m\u001b[0;34m\"text/html\"\u001b[0m\u001b[0;34m]\u001b[0m \u001b[0;34m=\u001b[0m \u001b[0mestimator_html_repr\u001b[0m\u001b[0;34m(\u001b[0m\u001b[0mself\u001b[0m\u001b[0;34m)\u001b[0m\u001b[0;34m\u001b[0m\u001b[0;34m\u001b[0m\u001b[0m\n",
            "\u001b[0;32m/usr/local/lib/python3.7/dist-packages/sklearn/base.py\u001b[0m in \u001b[0;36m__repr__\u001b[0;34m(self, N_CHAR_MAX)\u001b[0m\n\u001b[1;32m    277\u001b[0m         )\n\u001b[1;32m    278\u001b[0m \u001b[0;34m\u001b[0m\u001b[0m\n\u001b[0;32m--> 279\u001b[0;31m         \u001b[0mrepr_\u001b[0m \u001b[0;34m=\u001b[0m \u001b[0mpp\u001b[0m\u001b[0;34m.\u001b[0m\u001b[0mpformat\u001b[0m\u001b[0;34m(\u001b[0m\u001b[0mself\u001b[0m\u001b[0;34m)\u001b[0m\u001b[0;34m\u001b[0m\u001b[0;34m\u001b[0m\u001b[0m\n\u001b[0m\u001b[1;32m    280\u001b[0m \u001b[0;34m\u001b[0m\u001b[0m\n\u001b[1;32m    281\u001b[0m         \u001b[0;31m# Use bruteforce ellipsis when there are a lot of non-blank characters\u001b[0m\u001b[0;34m\u001b[0m\u001b[0;34m\u001b[0m\u001b[0;34m\u001b[0m\u001b[0m\n",
            "\u001b[0;32m/usr/lib/python3.7/pprint.py\u001b[0m in \u001b[0;36mpformat\u001b[0;34m(self, object)\u001b[0m\n\u001b[1;32m    142\u001b[0m     \u001b[0;32mdef\u001b[0m \u001b[0mpformat\u001b[0m\u001b[0;34m(\u001b[0m\u001b[0mself\u001b[0m\u001b[0;34m,\u001b[0m \u001b[0mobject\u001b[0m\u001b[0;34m)\u001b[0m\u001b[0;34m:\u001b[0m\u001b[0;34m\u001b[0m\u001b[0;34m\u001b[0m\u001b[0m\n\u001b[1;32m    143\u001b[0m         \u001b[0msio\u001b[0m \u001b[0;34m=\u001b[0m \u001b[0m_StringIO\u001b[0m\u001b[0;34m(\u001b[0m\u001b[0;34m)\u001b[0m\u001b[0;34m\u001b[0m\u001b[0;34m\u001b[0m\u001b[0m\n\u001b[0;32m--> 144\u001b[0;31m         \u001b[0mself\u001b[0m\u001b[0;34m.\u001b[0m\u001b[0m_format\u001b[0m\u001b[0;34m(\u001b[0m\u001b[0mobject\u001b[0m\u001b[0;34m,\u001b[0m \u001b[0msio\u001b[0m\u001b[0;34m,\u001b[0m \u001b[0;36m0\u001b[0m\u001b[0;34m,\u001b[0m \u001b[0;36m0\u001b[0m\u001b[0;34m,\u001b[0m \u001b[0;34m{\u001b[0m\u001b[0;34m}\u001b[0m\u001b[0;34m,\u001b[0m \u001b[0;36m0\u001b[0m\u001b[0;34m)\u001b[0m\u001b[0;34m\u001b[0m\u001b[0;34m\u001b[0m\u001b[0m\n\u001b[0m\u001b[1;32m    145\u001b[0m         \u001b[0;32mreturn\u001b[0m \u001b[0msio\u001b[0m\u001b[0;34m.\u001b[0m\u001b[0mgetvalue\u001b[0m\u001b[0;34m(\u001b[0m\u001b[0;34m)\u001b[0m\u001b[0;34m\u001b[0m\u001b[0;34m\u001b[0m\u001b[0m\n\u001b[1;32m    146\u001b[0m \u001b[0;34m\u001b[0m\u001b[0m\n",
            "\u001b[0;32m/usr/lib/python3.7/pprint.py\u001b[0m in \u001b[0;36m_format\u001b[0;34m(self, object, stream, indent, allowance, context, level)\u001b[0m\n\u001b[1;32m    159\u001b[0m             \u001b[0mself\u001b[0m\u001b[0;34m.\u001b[0m\u001b[0m_readable\u001b[0m \u001b[0;34m=\u001b[0m \u001b[0;32mFalse\u001b[0m\u001b[0;34m\u001b[0m\u001b[0;34m\u001b[0m\u001b[0m\n\u001b[1;32m    160\u001b[0m             \u001b[0;32mreturn\u001b[0m\u001b[0;34m\u001b[0m\u001b[0;34m\u001b[0m\u001b[0m\n\u001b[0;32m--> 161\u001b[0;31m         \u001b[0mrep\u001b[0m \u001b[0;34m=\u001b[0m \u001b[0mself\u001b[0m\u001b[0;34m.\u001b[0m\u001b[0m_repr\u001b[0m\u001b[0;34m(\u001b[0m\u001b[0mobject\u001b[0m\u001b[0;34m,\u001b[0m \u001b[0mcontext\u001b[0m\u001b[0;34m,\u001b[0m \u001b[0mlevel\u001b[0m\u001b[0;34m)\u001b[0m\u001b[0;34m\u001b[0m\u001b[0;34m\u001b[0m\u001b[0m\n\u001b[0m\u001b[1;32m    162\u001b[0m         \u001b[0mmax_width\u001b[0m \u001b[0;34m=\u001b[0m \u001b[0mself\u001b[0m\u001b[0;34m.\u001b[0m\u001b[0m_width\u001b[0m \u001b[0;34m-\u001b[0m \u001b[0mindent\u001b[0m \u001b[0;34m-\u001b[0m \u001b[0mallowance\u001b[0m\u001b[0;34m\u001b[0m\u001b[0;34m\u001b[0m\u001b[0m\n\u001b[1;32m    163\u001b[0m         \u001b[0;32mif\u001b[0m \u001b[0mlen\u001b[0m\u001b[0;34m(\u001b[0m\u001b[0mrep\u001b[0m\u001b[0;34m)\u001b[0m \u001b[0;34m>\u001b[0m \u001b[0mmax_width\u001b[0m\u001b[0;34m:\u001b[0m\u001b[0;34m\u001b[0m\u001b[0;34m\u001b[0m\u001b[0m\n",
            "\u001b[0;32m/usr/lib/python3.7/pprint.py\u001b[0m in \u001b[0;36m_repr\u001b[0;34m(self, object, context, level)\u001b[0m\n\u001b[1;32m    391\u001b[0m     \u001b[0;32mdef\u001b[0m \u001b[0m_repr\u001b[0m\u001b[0;34m(\u001b[0m\u001b[0mself\u001b[0m\u001b[0;34m,\u001b[0m \u001b[0mobject\u001b[0m\u001b[0;34m,\u001b[0m \u001b[0mcontext\u001b[0m\u001b[0;34m,\u001b[0m \u001b[0mlevel\u001b[0m\u001b[0;34m)\u001b[0m\u001b[0;34m:\u001b[0m\u001b[0;34m\u001b[0m\u001b[0;34m\u001b[0m\u001b[0m\n\u001b[1;32m    392\u001b[0m         repr, readable, recursive = self.format(object, context.copy(),\n\u001b[0;32m--> 393\u001b[0;31m                                                 self._depth, level)\n\u001b[0m\u001b[1;32m    394\u001b[0m         \u001b[0;32mif\u001b[0m \u001b[0;32mnot\u001b[0m \u001b[0mreadable\u001b[0m\u001b[0;34m:\u001b[0m\u001b[0;34m\u001b[0m\u001b[0;34m\u001b[0m\u001b[0m\n\u001b[1;32m    395\u001b[0m             \u001b[0mself\u001b[0m\u001b[0;34m.\u001b[0m\u001b[0m_readable\u001b[0m \u001b[0;34m=\u001b[0m \u001b[0;32mFalse\u001b[0m\u001b[0;34m\u001b[0m\u001b[0;34m\u001b[0m\u001b[0m\n",
            "\u001b[0;32m/usr/local/lib/python3.7/dist-packages/sklearn/utils/_pprint.py\u001b[0m in \u001b[0;36mformat\u001b[0;34m(self, object, context, maxlevels, level)\u001b[0m\n\u001b[1;32m    188\u001b[0m     \u001b[0;32mdef\u001b[0m \u001b[0mformat\u001b[0m\u001b[0;34m(\u001b[0m\u001b[0mself\u001b[0m\u001b[0;34m,\u001b[0m \u001b[0mobject\u001b[0m\u001b[0;34m,\u001b[0m \u001b[0mcontext\u001b[0m\u001b[0;34m,\u001b[0m \u001b[0mmaxlevels\u001b[0m\u001b[0;34m,\u001b[0m \u001b[0mlevel\u001b[0m\u001b[0;34m)\u001b[0m\u001b[0;34m:\u001b[0m\u001b[0;34m\u001b[0m\u001b[0;34m\u001b[0m\u001b[0m\n\u001b[1;32m    189\u001b[0m         return _safe_repr(\n\u001b[0;32m--> 190\u001b[0;31m             \u001b[0mobject\u001b[0m\u001b[0;34m,\u001b[0m \u001b[0mcontext\u001b[0m\u001b[0;34m,\u001b[0m \u001b[0mmaxlevels\u001b[0m\u001b[0;34m,\u001b[0m \u001b[0mlevel\u001b[0m\u001b[0;34m,\u001b[0m \u001b[0mchanged_only\u001b[0m\u001b[0;34m=\u001b[0m\u001b[0mself\u001b[0m\u001b[0;34m.\u001b[0m\u001b[0m_changed_only\u001b[0m\u001b[0;34m\u001b[0m\u001b[0;34m\u001b[0m\u001b[0m\n\u001b[0m\u001b[1;32m    191\u001b[0m         )\n\u001b[1;32m    192\u001b[0m \u001b[0;34m\u001b[0m\u001b[0m\n",
            "\u001b[0;32m/usr/local/lib/python3.7/dist-packages/sklearn/utils/_pprint.py\u001b[0m in \u001b[0;36m_safe_repr\u001b[0;34m(object, context, maxlevels, level, changed_only)\u001b[0m\n\u001b[1;32m    438\u001b[0m         \u001b[0mrecursive\u001b[0m \u001b[0;34m=\u001b[0m \u001b[0;32mFalse\u001b[0m\u001b[0;34m\u001b[0m\u001b[0;34m\u001b[0m\u001b[0m\n\u001b[1;32m    439\u001b[0m         \u001b[0;32mif\u001b[0m \u001b[0mchanged_only\u001b[0m\u001b[0;34m:\u001b[0m\u001b[0;34m\u001b[0m\u001b[0;34m\u001b[0m\u001b[0m\n\u001b[0;32m--> 440\u001b[0;31m             \u001b[0mparams\u001b[0m \u001b[0;34m=\u001b[0m \u001b[0m_changed_params\u001b[0m\u001b[0;34m(\u001b[0m\u001b[0mobject\u001b[0m\u001b[0;34m)\u001b[0m\u001b[0;34m\u001b[0m\u001b[0;34m\u001b[0m\u001b[0m\n\u001b[0m\u001b[1;32m    441\u001b[0m         \u001b[0;32melse\u001b[0m\u001b[0;34m:\u001b[0m\u001b[0;34m\u001b[0m\u001b[0;34m\u001b[0m\u001b[0m\n\u001b[1;32m    442\u001b[0m             \u001b[0mparams\u001b[0m \u001b[0;34m=\u001b[0m \u001b[0mobject\u001b[0m\u001b[0;34m.\u001b[0m\u001b[0mget_params\u001b[0m\u001b[0;34m(\u001b[0m\u001b[0mdeep\u001b[0m\u001b[0;34m=\u001b[0m\u001b[0;32mFalse\u001b[0m\u001b[0;34m)\u001b[0m\u001b[0;34m\u001b[0m\u001b[0;34m\u001b[0m\u001b[0m\n",
            "\u001b[0;32m/usr/local/lib/python3.7/dist-packages/sklearn/utils/_pprint.py\u001b[0m in \u001b[0;36m_changed_params\u001b[0;34m(estimator)\u001b[0m\n\u001b[1;32m     91\u001b[0m     estimator with non-default values.\"\"\"\n\u001b[1;32m     92\u001b[0m \u001b[0;34m\u001b[0m\u001b[0m\n\u001b[0;32m---> 93\u001b[0;31m     \u001b[0mparams\u001b[0m \u001b[0;34m=\u001b[0m \u001b[0mestimator\u001b[0m\u001b[0;34m.\u001b[0m\u001b[0mget_params\u001b[0m\u001b[0;34m(\u001b[0m\u001b[0mdeep\u001b[0m\u001b[0;34m=\u001b[0m\u001b[0;32mFalse\u001b[0m\u001b[0;34m)\u001b[0m\u001b[0;34m\u001b[0m\u001b[0;34m\u001b[0m\u001b[0m\n\u001b[0m\u001b[1;32m     94\u001b[0m     \u001b[0minit_func\u001b[0m \u001b[0;34m=\u001b[0m \u001b[0mgetattr\u001b[0m\u001b[0;34m(\u001b[0m\u001b[0mestimator\u001b[0m\u001b[0;34m.\u001b[0m\u001b[0m__init__\u001b[0m\u001b[0;34m,\u001b[0m \u001b[0;34m\"deprecated_original\"\u001b[0m\u001b[0;34m,\u001b[0m \u001b[0mestimator\u001b[0m\u001b[0;34m.\u001b[0m\u001b[0m__init__\u001b[0m\u001b[0;34m)\u001b[0m\u001b[0;34m\u001b[0m\u001b[0;34m\u001b[0m\u001b[0m\n\u001b[1;32m     95\u001b[0m     \u001b[0minit_params\u001b[0m \u001b[0;34m=\u001b[0m \u001b[0minspect\u001b[0m\u001b[0;34m.\u001b[0m\u001b[0msignature\u001b[0m\u001b[0;34m(\u001b[0m\u001b[0minit_func\u001b[0m\u001b[0;34m)\u001b[0m\u001b[0;34m.\u001b[0m\u001b[0mparameters\u001b[0m\u001b[0;34m\u001b[0m\u001b[0;34m\u001b[0m\u001b[0m\n",
            "\u001b[0;32m/usr/local/lib/python3.7/dist-packages/yellowbrick/base.py\u001b[0m in \u001b[0;36mget_params\u001b[0;34m(self, deep)\u001b[0m\n\u001b[1;32m    340\u001b[0m         \u001b[0mthe\u001b[0m \u001b[0mestimator\u001b[0m \u001b[0mparams\u001b[0m\u001b[0;34m.\u001b[0m\u001b[0;34m\u001b[0m\u001b[0;34m\u001b[0m\u001b[0m\n\u001b[1;32m    341\u001b[0m         \"\"\"\n\u001b[0;32m--> 342\u001b[0;31m         \u001b[0mparams\u001b[0m \u001b[0;34m=\u001b[0m \u001b[0msuper\u001b[0m\u001b[0;34m(\u001b[0m\u001b[0mModelVisualizer\u001b[0m\u001b[0;34m,\u001b[0m \u001b[0mself\u001b[0m\u001b[0;34m)\u001b[0m\u001b[0;34m.\u001b[0m\u001b[0mget_params\u001b[0m\u001b[0;34m(\u001b[0m\u001b[0mdeep\u001b[0m\u001b[0;34m=\u001b[0m\u001b[0mdeep\u001b[0m\u001b[0;34m)\u001b[0m\u001b[0;34m\u001b[0m\u001b[0;34m\u001b[0m\u001b[0m\n\u001b[0m\u001b[1;32m    343\u001b[0m         \u001b[0;32mfor\u001b[0m \u001b[0mparam\u001b[0m \u001b[0;32min\u001b[0m \u001b[0mlist\u001b[0m\u001b[0;34m(\u001b[0m\u001b[0mparams\u001b[0m\u001b[0;34m.\u001b[0m\u001b[0mkeys\u001b[0m\u001b[0;34m(\u001b[0m\u001b[0;34m)\u001b[0m\u001b[0;34m)\u001b[0m\u001b[0;34m:\u001b[0m\u001b[0;34m\u001b[0m\u001b[0;34m\u001b[0m\u001b[0m\n\u001b[1;32m    344\u001b[0m             \u001b[0;32mif\u001b[0m \u001b[0mparam\u001b[0m\u001b[0;34m.\u001b[0m\u001b[0mstartswith\u001b[0m\u001b[0;34m(\u001b[0m\u001b[0;34m\"estimator__\"\u001b[0m\u001b[0;34m)\u001b[0m\u001b[0;34m:\u001b[0m\u001b[0;34m\u001b[0m\u001b[0;34m\u001b[0m\u001b[0m\n",
            "\u001b[0;32m/usr/local/lib/python3.7/dist-packages/sklearn/base.py\u001b[0m in \u001b[0;36mget_params\u001b[0;34m(self, deep)\u001b[0m\n\u001b[1;32m    208\u001b[0m         \u001b[0mout\u001b[0m \u001b[0;34m=\u001b[0m \u001b[0mdict\u001b[0m\u001b[0;34m(\u001b[0m\u001b[0;34m)\u001b[0m\u001b[0;34m\u001b[0m\u001b[0;34m\u001b[0m\u001b[0m\n\u001b[1;32m    209\u001b[0m         \u001b[0;32mfor\u001b[0m \u001b[0mkey\u001b[0m \u001b[0;32min\u001b[0m \u001b[0mself\u001b[0m\u001b[0;34m.\u001b[0m\u001b[0m_get_param_names\u001b[0m\u001b[0;34m(\u001b[0m\u001b[0;34m)\u001b[0m\u001b[0;34m:\u001b[0m\u001b[0;34m\u001b[0m\u001b[0;34m\u001b[0m\u001b[0m\n\u001b[0;32m--> 210\u001b[0;31m             \u001b[0mvalue\u001b[0m \u001b[0;34m=\u001b[0m \u001b[0mgetattr\u001b[0m\u001b[0;34m(\u001b[0m\u001b[0mself\u001b[0m\u001b[0;34m,\u001b[0m \u001b[0mkey\u001b[0m\u001b[0;34m)\u001b[0m\u001b[0;34m\u001b[0m\u001b[0;34m\u001b[0m\u001b[0m\n\u001b[0m\u001b[1;32m    211\u001b[0m             \u001b[0;32mif\u001b[0m \u001b[0mdeep\u001b[0m \u001b[0;32mand\u001b[0m \u001b[0mhasattr\u001b[0m\u001b[0;34m(\u001b[0m\u001b[0mvalue\u001b[0m\u001b[0;34m,\u001b[0m \u001b[0;34m\"get_params\"\u001b[0m\u001b[0;34m)\u001b[0m\u001b[0;34m:\u001b[0m\u001b[0;34m\u001b[0m\u001b[0;34m\u001b[0m\u001b[0m\n\u001b[1;32m    212\u001b[0m                 \u001b[0mdeep_items\u001b[0m \u001b[0;34m=\u001b[0m \u001b[0mvalue\u001b[0m\u001b[0;34m.\u001b[0m\u001b[0mget_params\u001b[0m\u001b[0;34m(\u001b[0m\u001b[0;34m)\u001b[0m\u001b[0;34m.\u001b[0m\u001b[0mitems\u001b[0m\u001b[0;34m(\u001b[0m\u001b[0;34m)\u001b[0m\u001b[0;34m\u001b[0m\u001b[0;34m\u001b[0m\u001b[0m\n",
            "\u001b[0;32m/usr/local/lib/python3.7/dist-packages/yellowbrick/utils/wrapper.py\u001b[0m in \u001b[0;36m__getattr__\u001b[0;34m(self, attr)\u001b[0m\n\u001b[1;32m     40\u001b[0m     \u001b[0;32mdef\u001b[0m \u001b[0m__getattr__\u001b[0m\u001b[0;34m(\u001b[0m\u001b[0mself\u001b[0m\u001b[0;34m,\u001b[0m \u001b[0mattr\u001b[0m\u001b[0;34m)\u001b[0m\u001b[0;34m:\u001b[0m\u001b[0;34m\u001b[0m\u001b[0;34m\u001b[0m\u001b[0m\n\u001b[1;32m     41\u001b[0m         \u001b[0;31m# proxy to the wrapped object\u001b[0m\u001b[0;34m\u001b[0m\u001b[0;34m\u001b[0m\u001b[0;34m\u001b[0m\u001b[0m\n\u001b[0;32m---> 42\u001b[0;31m         \u001b[0;32mreturn\u001b[0m \u001b[0mgetattr\u001b[0m\u001b[0;34m(\u001b[0m\u001b[0mself\u001b[0m\u001b[0;34m.\u001b[0m\u001b[0m_wrapped\u001b[0m\u001b[0;34m,\u001b[0m \u001b[0mattr\u001b[0m\u001b[0;34m)\u001b[0m\u001b[0;34m\u001b[0m\u001b[0;34m\u001b[0m\u001b[0m\n\u001b[0m",
            "\u001b[0;31mAttributeError\u001b[0m: 'KMeans' object has no attribute 'k'"
          ]
        },
        {
          "output_type": "error",
          "ename": "TypeError",
          "evalue": "ignored",
          "traceback": [
            "\u001b[0;31m---------------------------------------------------------------------------\u001b[0m",
            "\u001b[0;31mTypeError\u001b[0m                                 Traceback (most recent call last)",
            "\u001b[0;32m<ipython-input-28-c04a0fde13c7>\u001b[0m in \u001b[0;36m<module>\u001b[0;34m()\u001b[0m\n\u001b[1;32m      1\u001b[0m \u001b[0mvisualizer\u001b[0m \u001b[0;34m=\u001b[0m \u001b[0mKElbowVisualizer\u001b[0m\u001b[0;34m(\u001b[0m\u001b[0mKMeans\u001b[0m\u001b[0;34m(\u001b[0m\u001b[0;34m)\u001b[0m\u001b[0;34m,\u001b[0m \u001b[0mk\u001b[0m\u001b[0;34m=\u001b[0m\u001b[0;34m(\u001b[0m\u001b[0;36m2\u001b[0m\u001b[0;34m,\u001b[0m\u001b[0;36m7\u001b[0m\u001b[0;34m)\u001b[0m\u001b[0;34m,\u001b[0m \u001b[0mmetric\u001b[0m \u001b[0;34m=\u001b[0m \u001b[0;34m\"silhouette\"\u001b[0m\u001b[0;34m,\u001b[0m \u001b[0mtimings\u001b[0m \u001b[0;34m=\u001b[0m \u001b[0;32mTrue\u001b[0m\u001b[0;34m)\u001b[0m\u001b[0;34m\u001b[0m\u001b[0;34m\u001b[0m\u001b[0m\n\u001b[0;32m----> 2\u001b[0;31m \u001b[0mvisualizer\u001b[0m\u001b[0;34m.\u001b[0m\u001b[0mfit\u001b[0m\u001b[0;34m(\u001b[0m\u001b[0mtsne_kmeans\u001b[0m\u001b[0;34m)\u001b[0m\u001b[0;34m\u001b[0m\u001b[0;34m\u001b[0m\u001b[0m\n\u001b[0m",
            "\u001b[0;32m/usr/local/lib/python3.7/dist-packages/IPython/core/displayhook.py\u001b[0m in \u001b[0;36m__call__\u001b[0;34m(self, result)\u001b[0m\n\u001b[1;32m    244\u001b[0m             \u001b[0mself\u001b[0m\u001b[0;34m.\u001b[0m\u001b[0mstart_displayhook\u001b[0m\u001b[0;34m(\u001b[0m\u001b[0;34m)\u001b[0m\u001b[0;34m\u001b[0m\u001b[0;34m\u001b[0m\u001b[0m\n\u001b[1;32m    245\u001b[0m             \u001b[0mself\u001b[0m\u001b[0;34m.\u001b[0m\u001b[0mwrite_output_prompt\u001b[0m\u001b[0;34m(\u001b[0m\u001b[0;34m)\u001b[0m\u001b[0;34m\u001b[0m\u001b[0;34m\u001b[0m\u001b[0m\n\u001b[0;32m--> 246\u001b[0;31m             \u001b[0mformat_dict\u001b[0m\u001b[0;34m,\u001b[0m \u001b[0mmd_dict\u001b[0m \u001b[0;34m=\u001b[0m \u001b[0mself\u001b[0m\u001b[0;34m.\u001b[0m\u001b[0mcompute_format_data\u001b[0m\u001b[0;34m(\u001b[0m\u001b[0mresult\u001b[0m\u001b[0;34m)\u001b[0m\u001b[0;34m\u001b[0m\u001b[0;34m\u001b[0m\u001b[0m\n\u001b[0m\u001b[1;32m    247\u001b[0m             \u001b[0mself\u001b[0m\u001b[0;34m.\u001b[0m\u001b[0mupdate_user_ns\u001b[0m\u001b[0;34m(\u001b[0m\u001b[0mresult\u001b[0m\u001b[0;34m)\u001b[0m\u001b[0;34m\u001b[0m\u001b[0;34m\u001b[0m\u001b[0m\n\u001b[1;32m    248\u001b[0m             \u001b[0mself\u001b[0m\u001b[0;34m.\u001b[0m\u001b[0mfill_exec_result\u001b[0m\u001b[0;34m(\u001b[0m\u001b[0mresult\u001b[0m\u001b[0;34m)\u001b[0m\u001b[0;34m\u001b[0m\u001b[0;34m\u001b[0m\u001b[0m\n",
            "\u001b[0;32m/usr/local/lib/python3.7/dist-packages/IPython/core/displayhook.py\u001b[0m in \u001b[0;36mcompute_format_data\u001b[0;34m(self, result)\u001b[0m\n\u001b[1;32m    148\u001b[0m \u001b[0;34m\u001b[0m\u001b[0m\n\u001b[1;32m    149\u001b[0m         \"\"\"\n\u001b[0;32m--> 150\u001b[0;31m         \u001b[0;32mreturn\u001b[0m \u001b[0mself\u001b[0m\u001b[0;34m.\u001b[0m\u001b[0mshell\u001b[0m\u001b[0;34m.\u001b[0m\u001b[0mdisplay_formatter\u001b[0m\u001b[0;34m.\u001b[0m\u001b[0mformat\u001b[0m\u001b[0;34m(\u001b[0m\u001b[0mresult\u001b[0m\u001b[0;34m)\u001b[0m\u001b[0;34m\u001b[0m\u001b[0;34m\u001b[0m\u001b[0m\n\u001b[0m\u001b[1;32m    151\u001b[0m \u001b[0;34m\u001b[0m\u001b[0m\n\u001b[1;32m    152\u001b[0m     \u001b[0;31m# This can be set to True by the write_output_prompt method in a subclass\u001b[0m\u001b[0;34m\u001b[0m\u001b[0;34m\u001b[0m\u001b[0;34m\u001b[0m\u001b[0m\n",
            "\u001b[0;32m/usr/local/lib/python3.7/dist-packages/IPython/core/formatters.py\u001b[0m in \u001b[0;36mformat\u001b[0;34m(self, obj, include, exclude)\u001b[0m\n\u001b[1;32m    150\u001b[0m             \u001b[0;32mreturn\u001b[0m \u001b[0;34m{\u001b[0m\u001b[0;34m}\u001b[0m\u001b[0;34m,\u001b[0m \u001b[0;34m{\u001b[0m\u001b[0;34m}\u001b[0m\u001b[0;34m\u001b[0m\u001b[0;34m\u001b[0m\u001b[0m\n\u001b[1;32m    151\u001b[0m \u001b[0;34m\u001b[0m\u001b[0m\n\u001b[0;32m--> 152\u001b[0;31m         \u001b[0mformat_dict\u001b[0m\u001b[0;34m,\u001b[0m \u001b[0mmd_dict\u001b[0m \u001b[0;34m=\u001b[0m \u001b[0mself\u001b[0m\u001b[0;34m.\u001b[0m\u001b[0mmimebundle_formatter\u001b[0m\u001b[0;34m(\u001b[0m\u001b[0mobj\u001b[0m\u001b[0;34m,\u001b[0m \u001b[0minclude\u001b[0m\u001b[0;34m=\u001b[0m\u001b[0minclude\u001b[0m\u001b[0;34m,\u001b[0m \u001b[0mexclude\u001b[0m\u001b[0;34m=\u001b[0m\u001b[0mexclude\u001b[0m\u001b[0;34m)\u001b[0m\u001b[0;34m\u001b[0m\u001b[0;34m\u001b[0m\u001b[0m\n\u001b[0m\u001b[1;32m    153\u001b[0m \u001b[0;34m\u001b[0m\u001b[0m\n\u001b[1;32m    154\u001b[0m         \u001b[0;32mif\u001b[0m \u001b[0mformat_dict\u001b[0m \u001b[0;32mor\u001b[0m \u001b[0mmd_dict\u001b[0m\u001b[0;34m:\u001b[0m\u001b[0;34m\u001b[0m\u001b[0;34m\u001b[0m\u001b[0m\n",
            "\u001b[0;31mTypeError\u001b[0m: cannot unpack non-iterable NoneType object"
          ]
        },
        {
          "output_type": "display_data",
          "data": {
            "image/png": "[encoded data removed]",
            "text/plain": [
              "<Figure size 576x396 with 2 Axes>"
            ]
          },
          "metadata": {}
        }
      ]
    },
    {
      "cell_type": "markdown",
      "source": [
        "Silhouette analysis showing that 4 clusters is best. Not sure what the error message is regarding but the silhouette analysis works. It was moved lower in the notebook because the error stopped the run through of the cells. "
      ],
      "metadata": {
        "id": "bHO9mwiHm0hN"
      },
      "id": "bHO9mwiHm0hN"
    },
    {
      "cell_type": "code",
      "source": [
        "kmodel.labels_"
      ],
      "metadata": {
        "colab": {
          "base_uri": "https://localhost:8080/"
        },
        "id": "4PBkjLRPyliH",
        "outputId": "56154e29-c72a-4b19-cb57-116a9a7e8623"
      },
      "id": "4PBkjLRPyliH",
      "execution_count": null,
      "outputs": [
        {
          "output_type": "execute_result",
          "data": {
            "text/plain": [
              "array([0, 3, 1, 2, 0, 1, 3, 0, 0, 0, 0, 1, 1, 1, 1, 2, 0, 0, 0, 3, 3, 1,\n",
              "       3, 0, 2, 1, 0, 3, 1, 1, 3, 1, 3, 3, 3, 3, 0, 1, 1, 0, 0, 0, 3, 0,\n",
              "       3, 1, 1, 1, 1, 1, 3, 3, 0, 2, 0, 0, 1, 1, 1, 3, 2, 2, 3, 3, 3, 3,\n",
              "       3, 1, 0, 0, 3, 3, 0, 1, 1, 3, 0, 0, 3, 2, 3, 3, 3, 3, 2, 3, 3, 0,\n",
              "       3, 0, 0, 0, 3, 3, 1, 1, 0, 1, 1, 1, 0, 3, 0, 3, 3, 2, 2, 2, 0, 2,\n",
              "       2, 0, 0, 0, 0, 0, 1, 1, 1, 3, 3, 2, 1, 1, 1, 2, 2, 2, 2, 2, 1, 0,\n",
              "       1, 0, 0, 0, 2, 0, 0, 3, 3, 0, 0, 0, 0, 0, 0, 1, 0, 0, 0, 2, 3, 2,\n",
              "       3, 3, 3, 0, 0, 3, 3, 2, 1, 1, 1, 2, 2, 3, 3, 3, 3, 2, 2, 1, 0, 1,\n",
              "       3, 3, 3, 3, 0, 0, 0, 2, 2, 2, 0, 3, 1, 0, 2, 2, 2, 0, 0, 2, 0, 0,\n",
              "       0, 0, 0, 3, 2, 1, 1, 1, 3, 3], dtype=int32)"
            ]
          },
          "metadata": {},
          "execution_count": 29
        }
      ]
    },
    {
      "cell_type": "code",
      "source": [
        "tsne_index_df['Label'] = kmodel.labels_\n"
      ],
      "metadata": {
        "id": "I5Z2WwtyyxJT"
      },
      "id": "I5Z2WwtyyxJT",
      "execution_count": null,
      "outputs": []
    },
    {
      "cell_type": "code",
      "source": [
        "tsne_index_df"
      ],
      "metadata": {
        "colab": {
          "base_uri": "https://localhost:8080/",
          "height": 423
        },
        "id": "0opl9Kl-zBKZ",
        "outputId": "b97763a3-1e07-455b-8a4a-42308d65a986"
      },
      "id": "0opl9Kl-zBKZ",
      "execution_count": null,
      "outputs": [
        {
          "output_type": "execute_result",
          "data": {
            "text/html": [
              "\n",
              "  <div id=\"df-d9f468b9-e0f5-4b7a-b4ce-a1ff2762c56d\">\n",
              "    <div class=\"colab-df-container\">\n",
              "      <div>\n",
              "<style scoped>\n",
              "    .dataframe tbody tr th:only-of-type {\n",
              "        vertical-align: middle;\n",
              "    }\n",
              "\n",
              "    .dataframe tbody tr th {\n",
              "        vertical-align: top;\n",
              "    }\n",
              "\n",
              "    .dataframe thead th {\n",
              "        text-align: right;\n",
              "    }\n",
              "</style>\n",
              "<table border=\"1\" class=\"dataframe\">\n",
              "  <thead>\n",
              "    <tr style=\"text-align: right;\">\n",
              "      <th></th>\n",
              "      <th>0</th>\n",
              "      <th>1</th>\n",
              "      <th>Label</th>\n",
              "      <th>Disaster</th>\n",
              "    </tr>\n",
              "  </thead>\n",
              "  <tbody>\n",
              "    <tr>\n",
              "      <th>none</th>\n",
              "      <td>0.706281</td>\n",
              "      <td>2.529178</td>\n",
              "      <td>0</td>\n",
              "      <td>none</td>\n",
              "    </tr>\n",
              "    <tr>\n",
              "      <th>ablaze</th>\n",
              "      <td>1.330856</td>\n",
              "      <td>0.892686</td>\n",
              "      <td>3</td>\n",
              "      <td>ablaze</td>\n",
              "    </tr>\n",
              "    <tr>\n",
              "      <th>accident</th>\n",
              "      <td>2.313478</td>\n",
              "      <td>1.833465</td>\n",
              "      <td>1</td>\n",
              "      <td>accident</td>\n",
              "    </tr>\n",
              "    <tr>\n",
              "      <th>aftershock</th>\n",
              "      <td>-2.003834</td>\n",
              "      <td>4.022930</td>\n",
              "      <td>2</td>\n",
              "      <td>aftershock</td>\n",
              "    </tr>\n",
              "    <tr>\n",
              "      <th>airplane</th>\n",
              "      <td>1.235383</td>\n",
              "      <td>3.263118</td>\n",
              "      <td>0</td>\n",
              "      <td>airplane</td>\n",
              "    </tr>\n",
              "    <tr>\n",
              "      <th>...</th>\n",
              "      <td>...</td>\n",
              "      <td>...</td>\n",
              "      <td>...</td>\n",
              "      <td>...</td>\n",
              "    </tr>\n",
              "    <tr>\n",
              "      <th>wounded</th>\n",
              "      <td>2.745104</td>\n",
              "      <td>2.156568</td>\n",
              "      <td>1</td>\n",
              "      <td>wounded</td>\n",
              "    </tr>\n",
              "    <tr>\n",
              "      <th>wounds</th>\n",
              "      <td>2.644991</td>\n",
              "      <td>2.465302</td>\n",
              "      <td>1</td>\n",
              "      <td>wounds</td>\n",
              "    </tr>\n",
              "    <tr>\n",
              "      <th>wreck</th>\n",
              "      <td>2.126297</td>\n",
              "      <td>1.661147</td>\n",
              "      <td>1</td>\n",
              "      <td>wreck</td>\n",
              "    </tr>\n",
              "    <tr>\n",
              "      <th>wreckage</th>\n",
              "      <td>-0.608191</td>\n",
              "      <td>0.439415</td>\n",
              "      <td>3</td>\n",
              "      <td>wreckage</td>\n",
              "    </tr>\n",
              "    <tr>\n",
              "      <th>wrecked</th>\n",
              "      <td>0.610369</td>\n",
              "      <td>1.573313</td>\n",
              "      <td>3</td>\n",
              "      <td>wrecked</td>\n",
              "    </tr>\n",
              "  </tbody>\n",
              "</table>\n",
              "<p>208 rows × 4 columns</p>\n",
              "</div>\n",
              "      <button class=\"colab-df-convert\" onclick=\"convertToInteractive('df-d9f468b9-e0f5-4b7a-b4ce-a1ff2762c56d')\"\n",
              "              title=\"Convert this dataframe to an interactive table.\"\n",
              "              style=\"display:none;\">\n",
              "        \n",
              "  <svg xmlns=\"http://www.w3.org/2000/svg\" height=\"24px\"viewBox=\"0 0 24 24\"\n",
              "       width=\"24px\">\n",
              "    <path d=\"M0 0h24v24H0V0z\" fill=\"none\"/>\n",
              "    <path d=\"M18.56 5.44l.94 2.06.94-2.06 2.06-.94-2.06-.94-.94-2.06-.94 2.06-2.06.94zm-11 1L8.5 8.5l.94-2.06 2.06-.94-2.06-.94L8.5 2.5l-.94 2.06-2.06.94zm10 10l.94 2.06.94-2.06 2.06-.94-2.06-.94-.94-2.06-.94 2.06-2.06.94z\"/><path d=\"M17.41 7.96l-1.37-1.37c-.4-.4-.92-.59-1.43-.59-.52 0-1.04.2-1.43.59L10.3 9.45l-7.72 7.72c-.78.78-.78 2.05 0 2.83L4 21.41c.39.39.9.59 1.41.59.51 0 1.02-.2 1.41-.59l7.78-7.78 2.81-2.81c.8-.78.8-2.07 0-2.86zM5.41 20L4 18.59l7.72-7.72 1.47 1.35L5.41 20z\"/>\n",
              "  </svg>\n",
              "      </button>\n",
              "      \n",
              "  <style>\n",
              "    .colab-df-container {\n",
              "      display:flex;\n",
              "      flex-wrap:wrap;\n",
              "      gap: 12px;\n",
              "    }\n",
              "\n",
              "    .colab-df-convert {\n",
              "      background-color: #E8F0FE;\n",
              "      border: none;\n",
              "      border-radius: 50%;\n",
              "      cursor: pointer;\n",
              "      display: none;\n",
              "      fill: #1967D2;\n",
              "      height: 32px;\n",
              "      padding: 0 0 0 0;\n",
              "      width: 32px;\n",
              "    }\n",
              "\n",
              "    .colab-df-convert:hover {\n",
              "      background-color: #E2EBFA;\n",
              "      box-shadow: 0px 1px 2px rgba(60, 64, 67, 0.3), 0px 1px 3px 1px rgba(60, 64, 67, 0.15);\n",
              "      fill: #174EA6;\n",
              "    }\n",
              "\n",
              "    [theme=dark] .colab-df-convert {\n",
              "      background-color: #3B4455;\n",
              "      fill: #D2E3FC;\n",
              "    }\n",
              "\n",
              "    [theme=dark] .colab-df-convert:hover {\n",
              "      background-color: #434B5C;\n",
              "      box-shadow: 0px 1px 3px 1px rgba(0, 0, 0, 0.15);\n",
              "      filter: drop-shadow(0px 1px 2px rgba(0, 0, 0, 0.3));\n",
              "      fill: #FFFFFF;\n",
              "    }\n",
              "  </style>\n",
              "\n",
              "      <script>\n",
              "        const buttonEl =\n",
              "          document.querySelector('#df-d9f468b9-e0f5-4b7a-b4ce-a1ff2762c56d button.colab-df-convert');\n",
              "        buttonEl.style.display =\n",
              "          google.colab.kernel.accessAllowed ? 'block' : 'none';\n",
              "\n",
              "        async function convertToInteractive(key) {\n",
              "          const element = document.querySelector('#df-d9f468b9-e0f5-4b7a-b4ce-a1ff2762c56d');\n",
              "          const dataTable =\n",
              "            await google.colab.kernel.invokeFunction('convertToInteractive',\n",
              "                                                     [key], {});\n",
              "          if (!dataTable) return;\n",
              "\n",
              "          const docLinkHtml = 'Like what you see? Visit the ' +\n",
              "            '<a target=\"_blank\" href=https://colab.research.google.com/notebooks/data_table.ipynb>data table notebook</a>'\n",
              "            + ' to learn more about interactive tables.';\n",
              "          element.innerHTML = '';\n",
              "          dataTable['output_type'] = 'display_data';\n",
              "          await google.colab.output.renderOutput(dataTable, element);\n",
              "          const docLink = document.createElement('div');\n",
              "          docLink.innerHTML = docLinkHtml;\n",
              "          element.appendChild(docLink);\n",
              "        }\n",
              "      </script>\n",
              "    </div>\n",
              "  </div>\n",
              "  "
            ],
            "text/plain": [
              "                   0         1  Label    Disaster\n",
              "none        0.706281  2.529178      0        none\n",
              "ablaze      1.330856  0.892686      3      ablaze\n",
              "accident    2.313478  1.833465      1    accident\n",
              "aftershock -2.003834  4.022930      2  aftershock\n",
              "airplane    1.235383  3.263118      0    airplane\n",
              "...              ...       ...    ...         ...\n",
              "wounded     2.745104  2.156568      1     wounded\n",
              "wounds      2.644991  2.465302      1      wounds\n",
              "wreck       2.126297  1.661147      1       wreck\n",
              "wreckage   -0.608191  0.439415      3    wreckage\n",
              "wrecked     0.610369  1.573313      3     wrecked\n",
              "\n",
              "[208 rows x 4 columns]"
            ]
          },
          "metadata": {},
          "execution_count": 31
        }
      ]
    },
    {
      "cell_type": "code",
      "source": [
        "#word2vec.most_similar(positive=['woman', 'king'], negative=['man'])"
      ],
      "metadata": {
        "id": "_LDLD2ojMgmN"
      },
      "id": "_LDLD2ojMgmN",
      "execution_count": null,
      "outputs": []
    },
    {
      "cell_type": "code",
      "source": [
        "keyword_group = tr.groupby(['keyword'])\n",
        "keyword_group\n",
        "\n",
        "keyword_group[[\"target\"]].agg([np.mean]).sort_values\n",
        "\n",
        "keyword_group[[\"target\"]].agg([np.mean])[\"target\"].sort_values(\"mean\", ascending = True).head(30)\n",
        "\n",
        "keyword_group[[\"target\"]].agg([np.mean])[\"target\"].sort_values(\"mean\", ascending = False).head(30)\n",
        "\n",
        "disaster_df = keyword_group[[\"target\"]].agg([np.mean])[\"target\"]"
      ],
      "metadata": {
        "id": "Z0TuAFATTBkd"
      },
      "id": "Z0TuAFATTBkd",
      "execution_count": null,
      "outputs": []
    },
    {
      "cell_type": "code",
      "source": [
        "disaster_df"
      ],
      "metadata": {
        "colab": {
          "base_uri": "https://localhost:8080/",
          "height": 455
        },
        "id": "mYMmxcXyTSrl",
        "outputId": "b65dc46f-06c7-44f7-c4dc-f946debc3808"
      },
      "id": "mYMmxcXyTSrl",
      "execution_count": null,
      "outputs": [
        {
          "output_type": "execute_result",
          "data": {
            "text/html": [
              "\n",
              "  <div id=\"df-e660ef18-97f3-4528-b20f-7ed382835a90\">\n",
              "    <div class=\"colab-df-container\">\n",
              "      <div>\n",
              "<style scoped>\n",
              "    .dataframe tbody tr th:only-of-type {\n",
              "        vertical-align: middle;\n",
              "    }\n",
              "\n",
              "    .dataframe tbody tr th {\n",
              "        vertical-align: top;\n",
              "    }\n",
              "\n",
              "    .dataframe thead th {\n",
              "        text-align: right;\n",
              "    }\n",
              "</style>\n",
              "<table border=\"1\" class=\"dataframe\">\n",
              "  <thead>\n",
              "    <tr style=\"text-align: right;\">\n",
              "      <th></th>\n",
              "      <th>mean</th>\n",
              "    </tr>\n",
              "    <tr>\n",
              "      <th>keyword</th>\n",
              "      <th></th>\n",
              "    </tr>\n",
              "  </thead>\n",
              "  <tbody>\n",
              "    <tr>\n",
              "      <th>None</th>\n",
              "      <td>0.688525</td>\n",
              "    </tr>\n",
              "    <tr>\n",
              "      <th>ablaze</th>\n",
              "      <td>0.361111</td>\n",
              "    </tr>\n",
              "    <tr>\n",
              "      <th>accident</th>\n",
              "      <td>0.685714</td>\n",
              "    </tr>\n",
              "    <tr>\n",
              "      <th>aftershock</th>\n",
              "      <td>0.000000</td>\n",
              "    </tr>\n",
              "    <tr>\n",
              "      <th>airplane%20accident</th>\n",
              "      <td>0.857143</td>\n",
              "    </tr>\n",
              "    <tr>\n",
              "      <th>...</th>\n",
              "      <td>...</td>\n",
              "    </tr>\n",
              "    <tr>\n",
              "      <th>wounded</th>\n",
              "      <td>0.702703</td>\n",
              "    </tr>\n",
              "    <tr>\n",
              "      <th>wounds</th>\n",
              "      <td>0.303030</td>\n",
              "    </tr>\n",
              "    <tr>\n",
              "      <th>wreck</th>\n",
              "      <td>0.189189</td>\n",
              "    </tr>\n",
              "    <tr>\n",
              "      <th>wreckage</th>\n",
              "      <td>1.000000</td>\n",
              "    </tr>\n",
              "    <tr>\n",
              "      <th>wrecked</th>\n",
              "      <td>0.076923</td>\n",
              "    </tr>\n",
              "  </tbody>\n",
              "</table>\n",
              "<p>222 rows × 1 columns</p>\n",
              "</div>\n",
              "      <button class=\"colab-df-convert\" onclick=\"convertToInteractive('df-e660ef18-97f3-4528-b20f-7ed382835a90')\"\n",
              "              title=\"Convert this dataframe to an interactive table.\"\n",
              "              style=\"display:none;\">\n",
              "        \n",
              "  <svg xmlns=\"http://www.w3.org/2000/svg\" height=\"24px\"viewBox=\"0 0 24 24\"\n",
              "       width=\"24px\">\n",
              "    <path d=\"M0 0h24v24H0V0z\" fill=\"none\"/>\n",
              "    <path d=\"M18.56 5.44l.94 2.06.94-2.06 2.06-.94-2.06-.94-.94-2.06-.94 2.06-2.06.94zm-11 1L8.5 8.5l.94-2.06 2.06-.94-2.06-.94L8.5 2.5l-.94 2.06-2.06.94zm10 10l.94 2.06.94-2.06 2.06-.94-2.06-.94-.94-2.06-.94 2.06-2.06.94z\"/><path d=\"M17.41 7.96l-1.37-1.37c-.4-.4-.92-.59-1.43-.59-.52 0-1.04.2-1.43.59L10.3 9.45l-7.72 7.72c-.78.78-.78 2.05 0 2.83L4 21.41c.39.39.9.59 1.41.59.51 0 1.02-.2 1.41-.59l7.78-7.78 2.81-2.81c.8-.78.8-2.07 0-2.86zM5.41 20L4 18.59l7.72-7.72 1.47 1.35L5.41 20z\"/>\n",
              "  </svg>\n",
              "      </button>\n",
              "      \n",
              "  <style>\n",
              "    .colab-df-container {\n",
              "      display:flex;\n",
              "      flex-wrap:wrap;\n",
              "      gap: 12px;\n",
              "    }\n",
              "\n",
              "    .colab-df-convert {\n",
              "      background-color: #E8F0FE;\n",
              "      border: none;\n",
              "      border-radius: 50%;\n",
              "      cursor: pointer;\n",
              "      display: none;\n",
              "      fill: #1967D2;\n",
              "      height: 32px;\n",
              "      padding: 0 0 0 0;\n",
              "      width: 32px;\n",
              "    }\n",
              "\n",
              "    .colab-df-convert:hover {\n",
              "      background-color: #E2EBFA;\n",
              "      box-shadow: 0px 1px 2px rgba(60, 64, 67, 0.3), 0px 1px 3px 1px rgba(60, 64, 67, 0.15);\n",
              "      fill: #174EA6;\n",
              "    }\n",
              "\n",
              "    [theme=dark] .colab-df-convert {\n",
              "      background-color: #3B4455;\n",
              "      fill: #D2E3FC;\n",
              "    }\n",
              "\n",
              "    [theme=dark] .colab-df-convert:hover {\n",
              "      background-color: #434B5C;\n",
              "      box-shadow: 0px 1px 3px 1px rgba(0, 0, 0, 0.15);\n",
              "      filter: drop-shadow(0px 1px 2px rgba(0, 0, 0, 0.3));\n",
              "      fill: #FFFFFF;\n",
              "    }\n",
              "  </style>\n",
              "\n",
              "      <script>\n",
              "        const buttonEl =\n",
              "          document.querySelector('#df-e660ef18-97f3-4528-b20f-7ed382835a90 button.colab-df-convert');\n",
              "        buttonEl.style.display =\n",
              "          google.colab.kernel.accessAllowed ? 'block' : 'none';\n",
              "\n",
              "        async function convertToInteractive(key) {\n",
              "          const element = document.querySelector('#df-e660ef18-97f3-4528-b20f-7ed382835a90');\n",
              "          const dataTable =\n",
              "            await google.colab.kernel.invokeFunction('convertToInteractive',\n",
              "                                                     [key], {});\n",
              "          if (!dataTable) return;\n",
              "\n",
              "          const docLinkHtml = 'Like what you see? Visit the ' +\n",
              "            '<a target=\"_blank\" href=https://colab.research.google.com/notebooks/data_table.ipynb>data table notebook</a>'\n",
              "            + ' to learn more about interactive tables.';\n",
              "          element.innerHTML = '';\n",
              "          dataTable['output_type'] = 'display_data';\n",
              "          await google.colab.output.renderOutput(dataTable, element);\n",
              "          const docLink = document.createElement('div');\n",
              "          docLink.innerHTML = docLinkHtml;\n",
              "          element.appendChild(docLink);\n",
              "        }\n",
              "      </script>\n",
              "    </div>\n",
              "  </div>\n",
              "  "
            ],
            "text/plain": [
              "                         mean\n",
              "keyword                      \n",
              "None                 0.688525\n",
              "ablaze               0.361111\n",
              "accident             0.685714\n",
              "aftershock           0.000000\n",
              "airplane%20accident  0.857143\n",
              "...                       ...\n",
              "wounded              0.702703\n",
              "wounds               0.303030\n",
              "wreck                0.189189\n",
              "wreckage             1.000000\n",
              "wrecked              0.076923\n",
              "\n",
              "[222 rows x 1 columns]"
            ]
          },
          "metadata": {},
          "execution_count": 33
        }
      ]
    },
    {
      "cell_type": "code",
      "execution_count": null,
      "id": "9d6152a3",
      "metadata": {
        "id": "9d6152a3"
      },
      "outputs": [],
      "source": [
        "def document_vector(word2vec_model, doc):\n",
        "    # remove out-of-vocabulary words\n",
        "    doc = [word for word in doc if word in model.vocab]\n",
        "    return np.mean(model[doc], axis=0)\n",
        "\n",
        "# Our earlier preprocessing was done when we were dealing only with word vectors\n",
        "# Here, we need each document to remain a document \n",
        "def preprocess(text):\n",
        "    text = text.lower()\n",
        "    doc = word_tokenize(text)\n",
        "    doc = [word for word in doc if word not in stop_words]\n",
        "    doc = [word for word in doc if word.isalpha()] \n",
        "    return doc\n",
        "\n",
        "# Function that will help us drop documents that have no word vectors in word2vec\n",
        "def has_vector_representation(word2vec_model, doc):\n",
        "    \"\"\"check if at least one word of the document is in the\n",
        "    word2vec dictionary\"\"\"\n",
        "    return not all(word not in word2vec_model.vocab for word in doc)\n",
        "\n",
        "# Filter out documents\n",
        "def filter_docs(corpus, texts, condition_on_doc):\n",
        "    \"\"\"\n",
        "    Filter corpus and texts given the function condition_on_doc which takes\n",
        "    a doc. The document doc is kept if condition_on_doc(doc) is true.\n",
        "    \"\"\"\n",
        "    number_of_docs = len(corpus)\n",
        "\n",
        "    if texts is not None:\n",
        "        texts = [text for (text, doc) in zip(texts, corpus)\n",
        "                 if condition_on_doc(doc)]\n",
        "\n",
        "    corpus = [doc for doc in corpus if condition_on_doc(doc)]\n",
        "\n",
        "    print(\"{} docs removed\".format(number_of_docs - len(corpus)))\n",
        "\n",
        "    return (corpus, texts)"
      ]
    },
    {
      "cell_type": "code",
      "execution_count": null,
      "id": "1d44bd48",
      "metadata": {
        "id": "1d44bd48",
        "outputId": "ffceabf1-b9b1-4123-97de-ad669d006cc3",
        "colab": {
          "base_uri": "https://localhost:8080/"
        }
      },
      "outputs": [
        {
          "output_type": "stream",
          "name": "stdout",
          "text": [
            "47 docs removed\n",
            "0 docs removed\n"
          ]
        }
      ],
      "source": [
        "# Preprocess the corpus\n",
        "corpus = [preprocess(title) for title in titles_list]\n",
        "\n",
        "# Remove docs that don't include any words in W2V's vocab\n",
        "corpus, titles_list = filter_docs(corpus, titles_list, lambda doc: has_vector_representation(model, doc))\n",
        "\n",
        "# Filter out any empty docs\n",
        "corpus, titles_list = filter_docs(corpus, titles_list, lambda doc: (len(doc) != 0))"
      ]
    },
    {
      "cell_type": "code",
      "execution_count": null,
      "id": "aee434b2",
      "metadata": {
        "id": "aee434b2"
      },
      "outputs": [],
      "source": [
        "# Initialize an array for the size of the corpus\n",
        "x = []\n",
        "for doc in corpus: # append the vector for each document\n",
        "    x.append(document_vector(model, doc))\n",
        "    \n",
        "X = np.array(x) # list to array"
      ]
    },
    {
      "cell_type": "code",
      "execution_count": null,
      "id": "8f26c5e6",
      "metadata": {
        "id": "8f26c5e6",
        "outputId": "d4139565-c8af-4966-cdde-018825d1c46b",
        "colab": {
          "base_uri": "https://localhost:8080/"
        }
      },
      "outputs": [
        {
          "output_type": "stream",
          "name": "stderr",
          "text": [
            "/usr/local/lib/python3.7/dist-packages/sklearn/manifold/_t_sne.py:793: FutureWarning:\n",
            "\n",
            "The default learning rate in TSNE will change from 200.0 to 'auto' in 1.2.\n",
            "\n"
          ]
        }
      ],
      "source": [
        "# Initialize t-SNE\n",
        "tsne = TSNE(n_components = 2, init = 'random', random_state = 10, perplexity = 100)\n",
        "\n",
        "# Use only 400 rows to shorten processing time\n",
        "tsne_df = tsne.fit_transform(X[:900])"
      ]
    },
    {
      "cell_type": "code",
      "execution_count": null,
      "id": "9588d919",
      "metadata": {
        "id": "9588d919",
        "outputId": "0f42a333-1278-4272-ac14-f68b8dc8c2e9",
        "colab": {
          "base_uri": "https://localhost:8080/"
        }
      },
      "outputs": [
        {
          "output_type": "stream",
          "name": "stderr",
          "text": [
            "/usr/local/lib/python3.7/dist-packages/sklearn/manifold/_t_sne.py:793: FutureWarning:\n",
            "\n",
            "The default learning rate in TSNE will change from 200.0 to 'auto' in 1.2.\n",
            "\n"
          ]
        }
      ],
      "source": [
        "# Initialize t-SNE\n",
        "tsne = TSNE(n_components = 2, init = 'random', random_state = 10, perplexity = 100)\n",
        "\n",
        "# Use only 400 rows to shorten processing time\n",
        "tsne_df = tsne.fit_transform(X[:900])"
      ]
    },
    {
      "cell_type": "code",
      "execution_count": null,
      "id": "abf83328",
      "metadata": {
        "id": "abf83328",
        "outputId": "bf9962d1-71be-461b-c7cd-aa4f5160d069",
        "colab": {
          "base_uri": "https://localhost:8080/",
          "height": 687
        }
      },
      "outputs": [
        {
          "output_type": "stream",
          "name": "stderr",
          "text": [
            "/usr/local/lib/python3.7/dist-packages/seaborn/_decorators.py:43: FutureWarning:\n",
            "\n",
            "Pass the following variables as keyword args: x, y. From version 0.12, the only valid positional argument will be `data`, and passing other arguments without an explicit keyword will result in an error or misinterpretation.\n",
            "\n"
          ]
        },
        {
          "output_type": "display_data",
          "data": {
            "image/png": "[encoded data removed]",
            "text/plain": [
              "<Figure size 1008x720 with 1 Axes>"
            ]
          },
          "metadata": {}
        }
      ],
      "source": [
        "fig, ax = plt.subplots(figsize = (14, 10))\n",
        "sns.scatterplot(tsne_df[:, 0], tsne_df[:, 1], alpha = 0.5)\n",
        "\n",
        "# Second plot: Import adjustText, initialize list of texts\n",
        "from adjustText import adjust_text\n",
        "texts = []\n",
        "titles_to_plot = list(np.arange(0, 400, 40)) # plots every 40th title in first 400 titles\n",
        "\n",
        "# Append words to list\n",
        "for title in titles_to_plot:\n",
        "    texts.append(plt.text(tsne_df[title, 0], tsne_df[title, 1], titles_list[title], fontsize = 14))\n",
        "    \n",
        "# Plot text using adjust_text (because overlapping text is hard to read)\n",
        "adjust_text(texts, force_points = 0.4, force_text = 0.4, \n",
        "            expand_points = (2,1), expand_text = (1,2),\n",
        "            arrowprops = dict(arrowstyle = \"-\", color = 'black', lw = 0.5))\n",
        "\n",
        "plt.show()"
      ]
    },
    {
      "cell_type": "code",
      "source": [
        "model.most_similar(\"fire\", topn=20)"
      ],
      "metadata": {
        "id": "QtzIZ2eCH7Ob",
        "colab": {
          "base_uri": "https://localhost:8080/"
        },
        "outputId": "f1abdb2f-8973-4212-92cf-28891fc0369f"
      },
      "id": "QtzIZ2eCH7Ob",
      "execution_count": null,
      "outputs": [
        {
          "output_type": "execute_result",
          "data": {
            "text/plain": [
              "[('blaze', 0.7516718506813049),\n",
              " ('fires', 0.7222490310668945),\n",
              " ('Fire', 0.69910728931427),\n",
              " ('flames', 0.6387674808502197),\n",
              " ('carelessly_discarded_cigarette', 0.6215550899505615),\n",
              " ('inferno', 0.6056278347969055),\n",
              " ('firefighters', 0.6039329767227173),\n",
              " ('alarm_blaze', 0.5841655731201172),\n",
              " ('brush_fires', 0.579571008682251),\n",
              " ('grassfire', 0.5759598612785339),\n",
              " ('blazes', 0.5724145174026489),\n",
              " ('Trabing_Fire', 0.5723351240158081),\n",
              " ('brushfire', 0.5706649422645569),\n",
              " ('wildfire', 0.5685724020004272),\n",
              " ('Unattended_candle', 0.5644780993461609),\n",
              " ('wildland_fire', 0.5628588199615479),\n",
              " ('Oily_rags', 0.5610144734382629),\n",
              " ('ignited_combustibles', 0.5588265657424927),\n",
              " ('Firefighters_douse', 0.5582048892974854),\n",
              " ('nearby_combustibles', 0.5580720901489258)]"
            ]
          },
          "metadata": {},
          "execution_count": 40
        }
      ]
    },
    {
      "cell_type": "code",
      "source": [
        "model.most_similar(\"aftershock\", topn=20)"
      ],
      "metadata": {
        "colab": {
          "base_uri": "https://localhost:8080/"
        },
        "id": "DCdQQx3ZBEoC",
        "outputId": "33dab725-887b-4c9f-fe4d-b876143bdff9"
      },
      "id": "DCdQQx3ZBEoC",
      "execution_count": null,
      "outputs": [
        {
          "output_type": "execute_result",
          "data": {
            "text/plain": [
              "[('temblor', 0.7776625752449036),\n",
              " ('tremor', 0.7703367471694946),\n",
              " ('aftershocks', 0.764899492263794),\n",
              " ('quake', 0.7573075294494629),\n",
              " ('#.#_magnitude_aftershock', 0.7549519538879395),\n",
              " ('#.#_magnitude_quake', 0.7472286224365234),\n",
              " ('#.#_magnitude_earthquake', 0.7448389530181885),\n",
              " ('aftershock_measuring', 0.7348997592926025),\n",
              " ('earthquake', 0.733711838722229),\n",
              " ('#.#_magnitude_tremor', 0.7100733518600464),\n",
              " ('tremor_measuring', 0.6975036859512329),\n",
              " ('earthquake_measuring', 0.687408447265625),\n",
              " ('quakes', 0.6839088201522827),\n",
              " ('aftershock_shook', 0.677603542804718),\n",
              " ('tremblor', 0.671722948551178),\n",
              " ('tremor_shook', 0.6716153025627136),\n",
              " ('aftershock_jolted', 0.6707204580307007),\n",
              " ('quake_jolted', 0.6688965559005737),\n",
              " ('aftershock_rocked', 0.6662856340408325),\n",
              " ('earthquake_jolted', 0.6634569764137268)]"
            ]
          },
          "metadata": {},
          "execution_count": 41
        }
      ]
    },
    {
      "cell_type": "markdown",
      "source": [
        "The most_similar above is to see what other words you could look for to find a disaster. The business proposal would be that when a disaster occurs the twitter can be looked at with a broader search parameters to find anything that might be related to that disaster."
      ],
      "metadata": {
        "id": "uTipFgMWnlxi"
      },
      "id": "uTipFgMWnlxi"
    }
  ],
  "metadata": {
    "kernelspec": {
      "display_name": "Python 3",
      "language": "python",
      "name": "python3"
    },
    "language_info": {
      "codemirror_mode": {
        "name": "ipython",
        "version": 3
      },
      "file_extension": ".py",
      "mimetype": "text/x-python",
      "name": "python",
      "nbconvert_exporter": "python",
      "pygments_lexer": "ipython3",
      "version": "3.7.1"
    },
    "colab": {
      "name": "disaster_tweets_word2vec.ipynb",
      "provenance": [],
      "collapsed_sections": [],
      "machine_shape": "hm",
      "include_colab_link": true
    }
  },
  "nbformat": 4,
  "nbformat_minor": 5
}